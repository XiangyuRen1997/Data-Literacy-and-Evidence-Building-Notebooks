{
 "cells": [
  {
   "cell_type": "markdown",
   "id": "2e15506b-1b13-440e-ae27-9a7b515bb412",
   "metadata": {},
   "source": [
    "# Functions\n",
    "\n",
    "[![DOI](https://zenodo.org/badge/DOI/10.5281/zenodo.10257464.svg)](https://doi.org/10.5281/zenodo.10257464)\n",
    "\n",
    "We store the code that we will use repeatedly in this notebook. "
   ]
  },
  {
   "cell_type": "code",
   "execution_count": null,
   "id": "6eef91c2-ac6e-4517-8794-141c97c529e5",
   "metadata": {},
   "outputs": [],
   "source": [
    "def precision_at_k(y_true, y_scores, k):\n",
    "\n",
    "    '''\n",
    "    The precision_at_k function calculates precision at a given threshold of k.\n",
    "    Precision tells us how accurate our model is in predicting positive outcomes.\n",
    "    Precision = TP/(TP + FP)\n",
    "\n",
    "    You need to specify:\n",
    "    y_true: the true labels.\n",
    "    y_scores: the predicted scores.\n",
    "    k: the threshold you choose.\n",
    "    '''\n",
    "\n",
    "    threshold = np.sort(y_scores)[::-1][int(k * len(y_scores))]\n",
    "    \n",
    "    y_pred = np.asarray([1 if i >= threshold else 0 for i in y_scores])\n",
    "    \n",
    "    return precision_score(y_true,y_pred)"
   ]
  },
  {
   "cell_type": "code",
   "execution_count": null,
   "id": "5ece3aad-a8e8-484e-813f-f73ae73841ce",
   "metadata": {},
   "outputs": [],
   "source": [
    "def recall_at_k(y_true, y_scores,k):\n",
    "\n",
    "    '''\n",
    "    The recall_at_k function calculates the recall at a given threshold of k.\n",
    "    Recall tells us how well our model captures positive outcomes.\n",
    "    Recall = TP/(TP + FN)\n",
    "\n",
    "    You need to specify:\n",
    "    y_true: the true labels.\n",
    "    y_scores: the predicted scores.\n",
    "    k: the threshold you choose.\n",
    "    '''\n",
    "    \n",
    "    threshold = np.sort(y_scores)[::-1][int(k * len(y_scores))]\n",
    "    \n",
    "    y_pred = np.asarray([1 if i >= threshold else 0 for i in y_scores])\n",
    "    \n",
    "    return recall_score(y_true,y_pred)"
   ]
  },
  {
   "cell_type": "code",
   "execution_count": null,
   "id": "bf73015d-53a0-4b21-b5f9-d6d5da9d13ad",
   "metadata": {},
   "outputs": [],
   "source": [
    "def accuracy_at_k(y_true, y_scores,k):\n",
    "    \n",
    "    '''\n",
    "    The accuracy_at_k function calculates accuracy at a given threshold of k.\n",
    "    Accuracy tells us how accurate our model is in predicting both positive and negative outcomes.\n",
    "    Accuracy = (TP + TN)/(TP + FP + TN + FN)\n",
    "\n",
    "    You need to specify:\n",
    "    y_true: the true labels.\n",
    "    y_scores: the predicted scores.\n",
    "    k: the threshold you choose.\n",
    "    '''\n",
    "    \n",
    "    threshold = np.sort(y_scores)[::-1][int(k * len(y_scores))]\n",
    "\n",
    "    y_pred = np.asarray([1 if i >= threshold else 0 for i in y_scores])\n",
    "    \n",
    "    return accuracy_score(y_true, y_pred)"
   ]
  },
  {
   "cell_type": "markdown",
   "id": "02ce0832",
   "metadata": {},
   "source": [
    "## Notebook Reference\n",
    "\n",
    "This notebook is inspired by previous ADA training courses machine learning notebooks, specifically:\n",
    "\n",
    "Drew. (2019). Coleridge-Initiative/ada-2019-osu: Published version 1 of OSU ADA training course (v1.0.0). Zenodo. https://doi.org/10.5281/zenodo.2672963\n",
    "\n",
    "Drew. (2019). Coleridge-Initiative/ada-2019-osu: Published version 1 of OSU ADA training course (v1.0.0). Zenodo. https://doi.org/10.5281/zenodo.2672963\n",
    "\n",
    "Drew. (2019). Coleridge-Initiative/ada-2019-osu: Published version 1 of OSU ADA training course (v1.0.0). Zenodo. https://doi.org/10.5281/zenodo.2672963\n",
    "\n",
    "Lou, T. (2022, March 18). Machine Learning Model Development and Feature Creation Using Illinois Unemployment Insurance Data. Zenodo. https://doi.org/10.5281/zenodo.6368905\n",
    "\n",
    "Lou, T. (2022, March 18). Machine Learning Model Deployment and Evaluation Using Illinois Unemployment Insurance Data. Zenodo. https://doi.org/10.5281/zenodo.6369160"
   ]
  }
 ],
 "metadata": {
  "kernelspec": {
   "display_name": "Python 3 (ipykernel)",
   "language": "python",
   "name": "python3"
  },
  "language_info": {
   "codemirror_mode": {
    "name": "ipython",
    "version": 3
   },
   "file_extension": ".py",
   "mimetype": "text/x-python",
   "name": "python",
   "nbconvert_exporter": "python",
   "pygments_lexer": "ipython3",
   "version": "3.8.10"
  }
 },
 "nbformat": 4,
 "nbformat_minor": 5
}
