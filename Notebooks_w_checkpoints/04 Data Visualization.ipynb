{
 "cells": [
  {
   "cell_type": "markdown",
   "id": "vZn7yVsX7SGu",
   "metadata": {
    "id": "vZn7yVsX7SGu"
   },
   "source": [
    "# Data Visualization\n",
    "\n",
    "**Tian Lou** \\\n",
    "Ohio Education Research Center \\\n",
    "The Ohio State University\n",
    "\n",
    "**Xiangyu Ren** \\\n",
    "New York University\n",
    "\n",
    "**Anna-Carolina Haensch** \\\n",
    "University of Maryland \\\n",
    "LMU Munich\n",
    "\n",
    "[![DOI](https://zenodo.org/badge/DOI/10.5281/zenodo.10257134.svg)](https://doi.org/10.5281/zenodo.10257134)\n",
    "\n",
    "**This notebook is developed for the [Data Literacy and Evidence Building Executive Class](https://www.socialdatascience.umd.edu/data-literacy).**\n",
    "\n",
    "**The \"Syntucky\" data, which is synthetic in nature, is exclusively designed for training exercises. It is not intended to derive meaningful insights or make determinations about real-world populations.**"
   ]
  },
  {
   "cell_type": "markdown",
   "id": "StyYW--V7b4z",
   "metadata": {
    "id": "StyYW--V7b4z"
   },
   "source": [
    "## Goals:\n",
    "In this notebook, we will show job quality for students in the 2015 Syntucky cohort by using various visualizations, including boxplot, countplot, line plot, and bar chart. You may find that the Python code we use to create visualizations is lengthy. However, once you write the visualization code in Python, it is easy for your to tune details for your visualizations and most importantly, to replicate the same type of visualizations.  \n",
    "\n",
    "**The specific questions we seek to answer in this notebook are**:\n",
    "1. Of the 2015 cohort bachelor degree holders, what are their year 7 earnings distributions by major?\n",
    "2. Of the 2015 cohort bachelor degree holders, how does the missingness in year 7 earnings vary by major?\n",
    "3. Of the 2015 cohort bachelor degree holders, what are their earnings trends over time by major?\n",
    "4. Of the 2015 cohort, how does the year 7 median earnings vary by major and degree completion status (completer, non-completer, and degree pursuer)?\n",
    "\n",
    "**After completing this notebook, you should:**\n",
    "1. Learn how to create simple but informative visualizations\n",
    "2. Understand how to present your research findings properly and concisely by using different types of visualizations\n",
    "3. Be able to use Matplotlib and Seaborn functions\n",
    "\n",
    "This is, like the rest of the class, only an introduction to data visualization with Matplotlib and Seaborn. A valuable resource to enhance your understanding and usability of the Matplotlib and Seaborn libraries is cheat sheet, such as [Seaborn Cheat Sheet](https://www.kaggle.com/discussions/getting-started/126958) and [Matplotlib Cheat Sheet](https://matplotlib.org/cheatsheets/)."
   ]
  },
  {
   "cell_type": "markdown",
   "id": "d52d7cb9",
   "metadata": {
    "id": "d52d7cb9"
   },
   "source": [
    "## 1. Import Data"
   ]
  },
  {
   "cell_type": "markdown",
   "id": "1c560cb2",
   "metadata": {
    "id": "1c560cb2"
   },
   "source": [
    "In this notebook, we introduce you to two data visualization libraries: **Matplotlib** and **Seaborn**. *Matplotlib* offers a wide range of tools for creating static, animated, or interactive plots. It is highly customizable and allows you to control almost every aspect of your plots. *Seaborn*, on the other hand, is built on top of Matplotlib and integrates well with Pandas data structures. It provides a high-level interface for drawing attractive and informative statistical graphics. It comes with several built-in themes for styling Matplotlib graphics and tools to create complex visualizations."
   ]
  },
  {
   "cell_type": "code",
   "execution_count": null,
   "id": "f50390ac",
   "metadata": {
    "id": "f50390ac"
   },
   "outputs": [],
   "source": [
    "#Data analysis libraries\n",
    "import pandas as pd\n",
    "import numpy as np\n",
    "\n",
    "#Data visualization libraries\n",
    "import matplotlib.pyplot as plt\n",
    "import seaborn as sns"
   ]
  },
  {
   "cell_type": "markdown",
   "id": "257fc1b9",
   "metadata": {
    "id": "257fc1b9"
   },
   "source": [
    "As usual, we use the 2015 cohort data to create visualizations in this notebook. Before running the code below, please change <font color='red'> **YOUR DATA DIRECTORY**</font> to your own file path."
   ]
  },
  {
   "cell_type": "code",
   "execution_count": null,
   "id": "f20a9ed3",
   "metadata": {
    "id": "f20a9ed3"
   },
   "outputs": [],
   "source": [
    "#Define data folder directory\n",
    "data_directory = 'YOUR DATA DIRECTORY'\n",
    "\n",
    "#Read in 2015 cohort data\n",
    "df_2015 = pd.read_csv(data_directory+'syntucky_cohort_2015.csv')\n",
    "\n",
    "#Check the first five rows of the data\n",
    "df_2015.head()"
   ]
  },
  {
   "cell_type": "markdown",
   "id": "b3daca6b-532e-48ab-8596-3c7eafe793da",
   "metadata": {},
   "source": [
    "## 2. Create Visualizations"
   ]
  },
  {
   "cell_type": "markdown",
   "id": "7713aa36",
   "metadata": {
    "id": "7713aa36"
   },
   "source": [
    "### Example 1: Boxplot"
   ]
  },
  {
   "cell_type": "markdown",
   "id": "7e912d8a",
   "metadata": {
    "id": "7e912d8a"
   },
   "source": [
    "A *boxplot*, also known as a *box and whisker plot*, is a graphical representation of statistical data. It usually includes five elements: minimum, first quartile (Q1, or the 25th percentile), median (Q2 or the 50th percentile), third quartile (Q3 or the 75th percentile), and maximum. The \"box\" in a boxplot encompasses the interquartile range (IQR), which spans Q1 to Q3. The \"line\" inside the box indicates the median. The \"whiskers\" extend from the box to show the range of the data (from min to max), but typically only up to 1.5 times the IQR. Any data points beyond the whiskers can be considered *outliers* and are often displayed as individual points. **Boxplots are useful in visualizing the spread and skewness of data and in spotting outliers.** Comparing boxplots allows for an easy comparison of these characteristics across different categories or groups in a dataset."
   ]
  },
  {
   "cell_type": "markdown",
   "id": "2ec1b208-f27b-4787-9d0f-a4b69296ba51",
   "metadata": {
    "id": "6aa73236"
   },
   "source": [
    "In this example, we will create a boxplot to show year 7 earnings distributions by major for bachelor's degree holders in  the 2015 cohort. First, let's save students in the 2015 cohort with the highest degree level of a bachelor's degree in the DataFrame `df_2015_ba`."
   ]
  },
  {
   "cell_type": "code",
   "execution_count": null,
   "id": "25a0da09-a971-4269-b4d5-6451423baa0a",
   "metadata": {},
   "outputs": [],
   "source": [
    "#Students in the 2015 cohort with the highest degree level of a bachelor's degree\n",
    "df_2015_ba = df_2015[(df_2015['high_completion_label'] == 'Bachelor')]"
   ]
  },
  {
   "cell_type": "markdown",
   "id": "7059423d-ac90-407c-bc8e-025e9787ee2b",
   "metadata": {
    "id": "6aa73236"
   },
   "source": [
    "Now we can use the seaborn function `sns.boxplot()` to create a simple boxplot. You need to define three parameters in this function: 1) `x = 'high_completion'` means we want the highest degree majors to be the x-axis; 2) `y = 'year7_earnings'` means the y-axis values are year 7 earnings; 3) `data = df_2015_ba` means we want to use the data in DataFrame `df_2015_ba`. We also need to use `plt.show()` to display the plot in this Jupyter notebook.\n",
    "\n",
    "The resulting boxplot is a clear visualization of the distribution and central tendencies of year 7 earnings for bachelor's degree holders in each major. We can see that for the 2015 cohort, bachelor's degree holders in nursing had the highest year 7 median earnings, as well as the highest 25th and 75th percentile year 7 earnings."
   ]
  },
  {
   "cell_type": "code",
   "execution_count": null,
   "id": "225f24fb",
   "metadata": {
    "id": "225f24fb"
   },
   "outputs": [],
   "source": [
    "# Create a boxplot for 'year7_earnings' across all 'high_completion' major groups\n",
    "sns.boxplot(x = 'high_completion', y = 'year7_earnings', data = df_2015_ba)\n",
    "\n",
    "# Show the plot\n",
    "plt.show()"
   ]
  },
  {
   "cell_type": "markdown",
   "id": "e7804854",
   "metadata": {
    "id": "e7804854"
   },
   "source": [
    "**How can we improve our visualization?** While the above boxplot is informative, a few important components are missing and it is hard for our audience to tell the key information presented on this graph. We can improve the boxplot by including:\n",
    "\n",
    "1. **A graph title that summarizes the key point of the graph**: the title should tell your audience the key takeaway of your graph. For example, we want to know that of the 2015 cohort bachelor's degree holders, students in which major had the highest median earnings in year 7. Our graph title should answer this question. We can use *\"Of the 2015 Cohort Bachelor Degree Holders, Nursing Students Had the Highest Median Earnings in Year 7\"* as our title. Of course, if you have different interpretations of the same graph, you can use an alternative title to summarize your key takeaways. To add the title, we use the `plt.title()` function.\n",
    "\n",
    "2. **Clear x-axis and y-axis labels**: in the current graph, the x-axis and y-axis labels are column names and they could be confusing to our audience. We need to replace them with concise descriptions. To change the labels, we can use `ax.set_ylabel` and `ax.set_xlabel`.\n",
    "\n",
    "3. **Data Source**: labeling the source of your data increases the credibility of your findings and enables others to replicate your results. We can use `plt.figtext()` to add additional text on the graph.\n",
    "\n",
    "There are additional functions you can use to improve your visualizations, such as setting your graph size by using `plt.subplots(figsize = (8, 5))` and rotating your x-axis tick labels slightly to make it easier to read, `ax.set_xticklabels(rotation = 20)`. Please read the comments in the code below to see what each line of code means.\n",
    "\n",
    "> You can save your graph by using `plt.savefig()`. Before running the code below, please change <font color='red'> **YOUR USERNAME**</font> in the second to last line of code to your username or your own file path."
   ]
  },
  {
   "cell_type": "code",
   "execution_count": null,
   "id": "b9cab149-85e6-40e0-b78e-14e9a387011f",
   "metadata": {
    "scrolled": true
   },
   "outputs": [],
   "source": [
    "#Create a boxplot\n",
    "\n",
    "# Set plot size\n",
    "# The first number is the width and the second number is the height.\n",
    "fig, ax = plt.subplots(figsize = (8, 5))\n",
    "\n",
    "# Create a boxplot for 'year7_earnings' across all 'high_completion' groups\n",
    "# We also use `order = ` to sort majors alphabetically\n",
    "sns.boxplot(x = 'high_completion', y = 'year7_earnings', data = df_2015_ba,\n",
    "           order = ['business', 'computerscience', 'education', 'nursing', 'other'])\n",
    "\n",
    "# Change Y-axis and X-axis labels\n",
    "# You can change the label size in `fontsize = `\n",
    "ax.set_ylabel('Year 7 Earnings', fontsize = 12)\n",
    "ax.set_xlabel('Highest Degree Major', fontsize = 12)\n",
    "\n",
    "# Y-axis tick labels: Change the format of earnings displayed on Y-axis\n",
    "ax.yaxis.set_major_formatter(format('${x:,.0f}'))\n",
    "\n",
    "# X-axis tick labels: \n",
    "# We can define x tick labels, such as using capital letters for the first letter of each word\n",
    "# Make sure the order of your labels are consistent with the order you defined in sns.boxplot()\n",
    "# Rotate x tick labels for better readability if there are many categories\n",
    "ax.set_xticklabels(['Business', 'Computer Science', 'Education', 'Nursing', 'Other Majors'],\n",
    "                   rotation = 20)\n",
    "\n",
    "# Set the title\n",
    "plt.title('Of the 2015 Cohort Bachelor Degree Holders, \\n Nursing Students Had the Highest Median Earnings in Year 7')\n",
    "\n",
    "# Data source\n",
    "# The first two numbers indicate the coordinate (or (x,y) position) of the text\n",
    "# You may need to adjust the numbers a few times to place it in an ideal place\n",
    "plt.figtext(0.65, -0.12, 'Data Source: Syntucky Data')\n",
    "\n",
    "#Save the plot\n",
    "plt.savefig(r\"C:\\Users\\YOUR USERNAME\\Documents\\ba_2015_y7_earnings_by_major.jpg\", bbox_inches = 'tight')\n",
    "\n",
    "# Show the plot\n",
    "plt.show()"
   ]
  },
  {
   "cell_type": "markdown",
   "id": "befb8962-b09f-499d-bdc2-259db465b671",
   "metadata": {},
   "source": [
    "#### **Checkpoint 1: Create a Boxplot for the 2013 Cohort Bachelor's Degree Holders**\n",
    "\n",
    "Please load the 2013 cohort data and save students whose highest degree is bachelor's degree in `df_2013_ba`. Then create a boxplot to show year 7 earnings distributions for bachelor's degree holders by major."
   ]
  },
  {
   "cell_type": "code",
   "execution_count": null,
   "id": "373a0b20-634c-4486-80ab-33bf83bf2ed5",
   "metadata": {},
   "outputs": [],
   "source": []
  },
  {
   "cell_type": "markdown",
   "id": "a717067c",
   "metadata": {
    "id": "a717067c"
   },
   "source": [
    "### Example 2: Countplot\n",
    "\n",
    "One of the foci of the class - and an important part of data analytics - is to examine the pattern of \"missingness\" in the data.  **On how many people are the earnings distributions in the boxplot based? How many people have missing year 7 earnings in each major?** We can visually present this information by using a *countplot*, again using the seaborn library. A *countplot* is essentially a histogram across a categorical variable. It displays the counts of observations in each categorical bin using bars. \n",
    "\n",
    "In this countplot, the x-axis will still be the major categories, `high_completion`, and the y-axis will be the counts of people in each category. Since we also want to display the counts of students by whether their year 7 earnings are missing, we need to create a dummy variable to indicate the missingness of `year7_earnings` first."
   ]
  },
  {
   "cell_type": "code",
   "execution_count": null,
   "id": "3d376460-9cb2-46c4-832b-0cc8a4d2e715",
   "metadata": {},
   "outputs": [],
   "source": [
    "# Create a new column indicating whether data in 'year7_earnings' column is missing\n",
    "df_2015_ba.loc[:, 'year7_earn_missing'] = (df_2015_ba['year7_earnings'].isna() == True) * 1"
   ]
  },
  {
   "cell_type": "markdown",
   "id": "1a4da87a-46a9-415b-99f9-781f909bfc50",
   "metadata": {},
   "source": [
    "Now we can use `sns.countplot()` to create the countplot. We use `hue = 'year7_earn_missing` to indicate that we want to show counts of students with missing and non-missing year 7 earnings in separate bars and in different colors. This countplot provides a quick, at-a-glance understanding of how the missingness in `year7_earnings` is distributed across different `high_completion` categories. Similar to example 1, we should customize x-axis and y-axis labels and ticks. We also use `plt.legend()` to specify which color represents count of missing earnings and which color represents count of non-missing earnings.\n",
    "\n",
    "> Before running the code below, please change <font color='red'> **YOUR USERNAME**</font> in the second to last line of code to your username or your own file path."
   ]
  },
  {
   "cell_type": "code",
   "execution_count": null,
   "id": "5649d11d",
   "metadata": {
    "id": "5649d11d"
   },
   "outputs": [],
   "source": [
    "# Create a countplot\n",
    "\n",
    "# Set plot size\n",
    "# The first number is the width and the second number is the height.\n",
    "fig, ax = plt.subplots(figsize = (8, 5))\n",
    "\n",
    "# Create a countplot to show counts of missing and non-missing 'year7_earnings' by major groups\n",
    "# We also use `order = ` to sort majors alphabetically\n",
    "sns.countplot(x = 'high_completion', hue = 'year7_earn_missing', data = df_2015_ba,\n",
    "              order = ['business', 'computerscience', 'education', 'nursing', 'other'])\n",
    "\n",
    "# Change Y-axis and X-axis labels\n",
    "# You can change the label size in `fontsize = `\n",
    "ax.set_ylabel('Student Counts', fontsize = 12)\n",
    "ax.set_xlabel('Highest Degree Major', fontsize = 12)\n",
    "\n",
    "# Y-axis tick labels: Change the format of counts displayed on Y-axis\n",
    "ax.yaxis.set_major_formatter(format('{x:,.0f}'))\n",
    "\n",
    "# X-axis tick labels: \n",
    "# Make sure the order of your labels are consistent with the order you defined in sns.countplot()\n",
    "# Rotate x tick labels for better readability if there are many categories\n",
    "ax.set_xticklabels(['Business', 'Computer Science', 'Education', 'Nursing', 'Other Majors'],\n",
    "                   rotation = 20)\n",
    "\n",
    "# Set the title\n",
    "plt.title('More Than 50% of Students in Business and \\n Computer Science Majors Have Missing Year 7 Earnings')\n",
    "\n",
    "# Data source\n",
    "# The first two numbers indicate the coordinate (or (x,y) position) of the text\n",
    "# You may need to adjust the numbers a few times to place it in an ideal place\n",
    "plt.figtext(0.65, -0.12, 'Data Source: Syntucky Data')\n",
    "\n",
    "# Define legend\n",
    "plt.legend(['Non-missing', 'Missing'], fontsize = 12)\n",
    "\n",
    "#Save the plot\n",
    "plt.savefig(r\"C:\\Users\\YOUR USERNAME\\Documents\\ba_2015_y7_earnings_missingness_by_major.jpg\", bbox_inches = 'tight')\n",
    "\n",
    "# Show the plot\n",
    "plt.show()"
   ]
  },
  {
   "cell_type": "markdown",
   "id": "f11a3f53-fd9b-463e-a7e4-b0046d571940",
   "metadata": {},
   "source": [
    "#### **Checkpoint 2: Use a Countplot to Check Counts of Missing Earnings** \n",
    "\n",
    "Please create a countplot to check how many students have missing and non-missing year 7 earnings in the 2013 cohort by the highest degree major. "
   ]
  },
  {
   "cell_type": "code",
   "execution_count": null,
   "id": "6277e0eb-4e82-4061-8f67-8b7025170458",
   "metadata": {},
   "outputs": [],
   "source": []
  },
  {
   "cell_type": "markdown",
   "id": "6024bcd7-ed05-4baa-84b0-4a5aaf8e4ebc",
   "metadata": {},
   "source": [
    "### Example 3: Line Plot"
   ]
  },
  {
   "cell_type": "markdown",
   "id": "b48f1ba9-a4c6-4137-87d2-ee802c0eeb2c",
   "metadata": {},
   "source": [
    "In the previous examples, we have examined year 7 earnings distributions and the missingness in year 7 earnings by major. Now, you may wonder: **what is the time trend in earnings for bachelor degree holders? Do nursing bachelor degree holders always have the highest median earnings?** To answer these questions, we can use a line plot to show earnings over time for students from different majors.\n",
    "\n",
    "Before we create the line plot, it is important to ensure that our data is in a format suitable for plotting time trends. Recall that we have year 5 to year 7 earnings for the 2015 cohort. Our current data is in the *wide format*:\n",
    "\n",
    "<text><center>**Wide Format Data**</center></text>\n",
    "\n",
    "|id|year5_earnings|year6_earnings|year7_earnings|\n",
    "|:--------:|:--------:|:--------:|:--------:|\n",
    "|1|NaN|NaN|10000|\n",
    "|2|20000|NaN|50000|\n",
    "\n",
    "However, to create the line plot, the data should be in the *long format*:\n",
    "\n",
    "<text><center>**Long Format Data**</center></text>\n",
    "|id|year|earnings|\n",
    "|:--------:|:--------:|:--------:|\n",
    "|1|year5_earnings|NaN|\n",
    "|1|year6_earnings|NaN|\n",
    "|1|year7_earnings|10000|\n",
    "|2|year5_earnings|20000|\n",
    "|2|year6_earnings|NaN|\n",
    "|2|year7_earnings|50000|\n",
    "\n",
    "The `pd.melt()` function allows us to transform a wide dataframe to the long format. In the code below, we first select the columns we need and save them to a new DataFrame `df_2015_ba_earn_wide`. Then we use `pd.melt()` function to reshape the wide data to long format. In this function, we need to define the DataFrame that has the wide format data, columns to use as identifiers (`id_vars = `), columns to be reshaped into long format (`value_vars = `), and the new column names (`var_name = ` and `value_name = `). "
   ]
  },
  {
   "cell_type": "code",
   "execution_count": null,
   "id": "210560c3-c6ee-43e0-8ab1-6fd4989fc787",
   "metadata": {},
   "outputs": [],
   "source": [
    "# Choose the variables we need in order to create the line plot\n",
    "df_2015_ba_earn_wide = df_2015_ba[['id', 'high_completion', 'year5_earnings', 'year6_earnings', 'year7_earnings']]\n",
    "\n",
    "#Change column names for easier labeling\n",
    "df_2015_ba_earn_wide = df_2015_ba_earn_wide.rename(columns = {'year5_earnings' : 'Year 5',\n",
    "                                                              'year6_earnings' : 'Year 6',\n",
    "                                                              'year7_earnings' : 'Year 7'})\n",
    "\n",
    "# Transform the dataframe from the wide format to the long format using the melt function\n",
    "df_2015_ba_earn_long = pd.melt(df_2015_ba_earn_wide, \n",
    "                               id_vars = ['id', 'high_completion'],\n",
    "                               value_vars = ['Year 5','Year 6','Year 7'],\n",
    "                               var_name = 'year',\n",
    "                               value_name = 'earnings')\n",
    "\n",
    "#See the first five rows of the long format\n",
    "df_2015_ba_earn_long.head()"
   ]
  },
  {
   "cell_type": "markdown",
   "id": "afa4bfb9-41a4-4e4a-9021-13fd5d57d904",
   "metadata": {},
   "source": [
    "Now we can use the `sns.lineplot()` function to create the line plot. In this function, we need to define the x-axis (`x = 'year'`, number of years since college entrance), the y-axis (`y = 'earnings'`, earnings for students in each major and each year), categories (`hue = 'high_completion'`, highest degree major), and the underlying data (`data = df_2015_ba_earn_long`). Since we want to show median earnings, we can define the statistics by using `estimator = np.nanmedian`. You can replace `np.nanmedian` with other Numpy statistics, such as `np.mean`. Seaborn lineplot's default setting shows confidence intervals. We hide the confidence interval here by using `errorbar = None`, but you can remove this code or show other parameters such as standard deviation.\n",
    "\n",
    "> Before running the code below, please change <font color='red'> **YOUR USERNAME**</font> in the second to last line of code to your username or your own file path."
   ]
  },
  {
   "cell_type": "code",
   "execution_count": null,
   "id": "ab7330c7-9a2c-428b-8eee-2323f4591808",
   "metadata": {
    "scrolled": true
   },
   "outputs": [],
   "source": [
    "# Create a line plot\n",
    "\n",
    "# Set plot size\n",
    "# The first number is the width and the second number is the height.\n",
    "fig, ax = plt.subplots(figsize = (8, 5))\n",
    "\n",
    "# Create a line plot to show earnings trends for students in different majors\n",
    "sns.lineplot(x = 'year', y = 'earnings', hue = 'high_completion', data = df_2015_ba_earn_long,\n",
    "             #Define orders of categories shown on the legend\n",
    "             hue_order = ['business', 'computerscience', 'education', 'nursing', 'other'], \n",
    "             # We use `estimator=` to define what statistics to show on the graph, \n",
    "             # you can replace np.nanmedian with other statistics such as np.mean\n",
    "             estimator = np.nanmedian, \n",
    "             # We hide the `errorbar` here, but it can be confidence interval, standard deviation, etc. \n",
    "             errorbar = None)\n",
    "\n",
    "# Change Y-axis and X-axis labels\n",
    "# You can change the label size in `fontsize = `\n",
    "ax.set_ylabel('Median Earnings', fontsize = 12)\n",
    "ax.set_xlabel('Number of Years Since College Entrance', fontsize = 12)\n",
    "\n",
    "# Y-axis tick labels: Change the format of counts displayed on Y-axis\n",
    "ax.yaxis.set_major_formatter(format('${x:,.0f}'))\n",
    "\n",
    "# Rotate x tick labels for better readability\n",
    "plt.xticks(rotation = 20)\n",
    "\n",
    "# Set the title\n",
    "# '\\n' allows you to start the sentence in a new line\n",
    "plt.title('Of the 2015 Cohort Bachelor Degree Holders, \\n Nursing Students Had the Highest Median Earnings from Year 5 to Year 7 \\n')\n",
    "\n",
    "# Data source\n",
    "# The first two numbers indicate the coordinate (or (x,y) position) of the text\n",
    "# You may need to adjust the numbers a few times to place it in an ideal place\n",
    "plt.figtext(0.65, -0.08, 'Data Source: Syntucky Data')\n",
    "\n",
    "# Define legend; The order of the labels should be consistent with the categories defined in `hue_order`\n",
    "plt.legend(['Business', 'Computer Science', 'Education', 'Nursing', 'Other Majors'], fontsize = 10)\n",
    "\n",
    "#Save the plot\n",
    "plt.savefig(r\"C:\\Users\\YOUR USERNAME\\Documents\\ba_2015_earnings_trends_by_major.jpg\", bbox_inches = 'tight')\n",
    "\n",
    "# Show the plot\n",
    "plt.show()"
   ]
  },
  {
   "cell_type": "markdown",
   "id": "3bb5eb89-4dec-4329-b6a7-b4f56e8785cf",
   "metadata": {},
   "source": [
    "#### **Checkpoint 3: Depict Median Earnings Over Time** \n",
    "\n",
    "Please create a line plot to show year 5 to year 9 median earnings for the 2013 cohort by the highest degree major. "
   ]
  },
  {
   "cell_type": "code",
   "execution_count": null,
   "id": "660218ca-e853-42a6-81e1-643f73162ebe",
   "metadata": {},
   "outputs": [],
   "source": []
  },
  {
   "cell_type": "markdown",
   "id": "c5edc566-f03d-402e-b7ec-fd2e08a64119",
   "metadata": {
    "id": "239e8e59"
   },
   "source": [
    "### Example 4: Bar Chart"
   ]
  },
  {
   "cell_type": "markdown",
   "id": "9750411b-d359-4408-b7fd-90c64f608cca",
   "metadata": {},
   "source": [
    "A *bar chart* illustrates an approximation of the central values for a numerical attribute through the height of each bar, while also converying a sense of the uncertainty around this estimation using error bars. It is neccessary to point out that a bar plot usually displays the mean. The bar plot could have different formats of input data: lists, numpy arrays, or pandas series object, which can be directly allocated to the x, y, and hue parameters. Basically, this function mostly displays categorical variables on x axis and numerical variables on y axis and another categorical variable for comparison represented by hue. \n",
    "\n",
    "In the previous example, we find that nursing bachelor degree holders had the highest median earnings from year 5 to year 7. How about students in other degree levels? **How do year 7 earnings vary by majors and degree completion status (completers, non-completers, and degree pursuers)?** A bar chart is one of the most suitable visualizations to present this information. Before we create the bar chart, we need to create the student group indicator and the major indicator (the definitions and code are the same as what we used in the data measurement notebook)."
   ]
  },
  {
   "cell_type": "code",
   "execution_count": null,
   "id": "c675ca71-9db1-4bf4-835c-4b2d1a59ea5a",
   "metadata": {},
   "outputs": [],
   "source": [
    "#Generate a group indicator\n",
    "\n",
    "#Remove the records where high_completion_label is Doctoral\n",
    "df_2015 = df_2015[df_2015['high_completion_label'] != 'Doctoral']\n",
    "\n",
    "#Conditions list\n",
    "conditions = [df_2015['high_completion_label'] == 'Associate', #Completers whose highest degrees are associate\n",
    "              df_2015['high_completion_label'] == 'Bachelor', #Completers whose highest degrees are bachelor\n",
    "              df_2015['high_completion_label'] == 'Master', #Completers whose highest degrees are master\n",
    "              ((df_2015['year7_enrolled'] == 0) & \n",
    "               ( ~ df_2015['high_completion_label'].isin(['Associate', 'Bachelor', 'Master']))), #Non-completers\n",
    "             ((df_2015['year7_enrolled'] == 1) & \n",
    "               ( ~ df_2015['high_completion_label'].isin(['Associate', 'Bachelor', 'Master'])))] #Degree pursuers\n",
    "\n",
    "#Choices (or values) list\n",
    "choices = ['Completer, Associate', \n",
    "           'Completer, Bachelor', \n",
    "           'Completer, Master', \n",
    "           'Non-completer', \n",
    "           'Degree pursuer']\n",
    "\n",
    "#Assign results to the indicator 'group' based on conditions; Default choice is the null value\n",
    "df_2015['group'] = np.select(conditions, choices, default = np.NaN)"
   ]
  },
  {
   "cell_type": "code",
   "execution_count": null,
   "id": "cacd635e-cd16-4029-a982-cd7ac3591b8b",
   "metadata": {},
   "outputs": [],
   "source": [
    "#Major indicator\n",
    "\n",
    "#For completers, we use the highest degree majors.\n",
    "#For non-completers and degree pursuers, we use the first enrollment majors.\n",
    "\n",
    "#Conditions list\n",
    "conditions = [((df_2015['group'] == 'Completer, Associate') | # condition 1: completers\n",
    "               (df_2015['group'] == 'Completer, Bachelor') |\n",
    "               (df_2015['group'] == 'Completer, Master')), \n",
    "              ((df_2015['group'] == 'Non-completer') | # condition 2: non-completers and degree pursuers\n",
    "               (df_2015['group'] == 'Degree pursuer'))] \n",
    "    \n",
    "\n",
    "#Choices (or values) list\n",
    "choices = [df_2015['high_completion'],\n",
    "           df_2015['first_enroll']]\n",
    "\n",
    "#Assign results to the indicator 'major' based on conditions; Default choice is the null value\n",
    "df_2015['major'] = np.select(conditions, choices, default = np.NaN)"
   ]
  },
  {
   "cell_type": "markdown",
   "id": "fda1c445-826e-4c53-9693-ca58beb86eef",
   "metadata": {},
   "source": [
    "To create the bar chart, we use the function `sns.barplot()`. Similar to previous examples, we need to define the x-axis (`x = 'major'`), the y-axis (`y = 'year7_earnings'`), the categories (`hue = 'group'`), and the data (`data = df_2015`). In this function, we can also define the order of student groups (`hue_order = `) and the order of majors (`order = `) we want to show on the graph. The rest code is to change details of the visualization. Please read the comments and adjust the parameters based on your needs.\n",
    "\n",
    "> Before running the code below, please change <font color='red'> **YOUR USERNAME**</font> in the second to last line of code to your username or your own file path."
   ]
  },
  {
   "cell_type": "code",
   "execution_count": null,
   "id": "330bac60-4947-4b92-aa04-32a4f5b1f9b9",
   "metadata": {
    "scrolled": true
   },
   "outputs": [],
   "source": [
    "# Create a bar chart\n",
    "\n",
    "# Set plot size\n",
    "# The first number is the width and the second number is the height.\n",
    "fig, ax = plt.subplots(figsize = (8, 5))\n",
    "\n",
    "#Create a bar chart to show year 7 earnings by majors and degree completion status\n",
    "sns.barplot(x = 'major', y = 'year7_earnings', hue = 'group', data=df_2015,\n",
    "            #Define the order of student groups\n",
    "            hue_order = ['Completer, Associate', 'Completer, Bachelor', 'Completer, Master', \n",
    "                         'Non-completer', 'Degree pursuer'],\n",
    "            #Define the order of majors displayed on x-axis\n",
    "            order = ['business', 'computerscience', 'education', 'nursing', 'other'],\n",
    "            #Define statistics to show on each bar\n",
    "            estimator = np.nanmedian, errorbar = None)\n",
    "\n",
    "# Change Y-axis and X-axis labels\n",
    "# You can change the label size in `fontsize = `\n",
    "ax.set_ylabel('Median Earnings', fontsize = 12)\n",
    "ax.set_xlabel('Highest Degree Major', fontsize = 12)\n",
    "\n",
    "# Y-axis tick labels: Change the format of counts displayed on Y-axis\n",
    "ax.yaxis.set_major_formatter(format('${x:,.0f}'))\n",
    "\n",
    "# X-axis tick labels: \n",
    "# Make sure the order of your labels are consistent with the order you defined in sns.barplot()\n",
    "# Rotate x tick labels for better readability if there are many categories\n",
    "ax.set_xticklabels(['Business', 'Computer Science', 'Education', 'Nursing', 'Other Majors'],\n",
    "                   rotation = 20)\n",
    "\n",
    "# Set the title\n",
    "# '\\n' allows you to start the sentence in a new line\n",
    "plt.title('Nursing and Computer Science Students Had the Highest Year 7 \\n Median Earnings Among Completers and Degree Pursuers, Respectively')\n",
    "\n",
    "# Data source\n",
    "# The first two numbers indicate the coordinate (or (x,y) position) of the text\n",
    "# You may need to adjust the numbers a few times to place it in an ideal place\n",
    "plt.figtext(0.65, -0.12, 'Data Source: Syntucky Data')\n",
    "\n",
    "# Set legend font size\n",
    "plt.legend(fontsize = 8)\n",
    "\n",
    "#Save the plot\n",
    "plt.savefig(r\"C:\\Users\\YOUR USERNAME\\Documents\\2015_year7_earnings_by_major_group.jpg\", bbox_inches = 'tight')\n",
    "\n",
    "# Show the plot\n",
    "plt.show()"
   ]
  },
  {
   "cell_type": "markdown",
   "id": "a5579463-fbdf-4f3e-813e-2edc6fab6801",
   "metadata": {},
   "source": [
    "#### **Checkpoint 4: Show Year 7 Earnings by Major and Degree Completion Status** \n",
    "\n",
    "Please use a bar chart to show year 7 median earnings for the 2013 cohort by major and degree completion status (completers, non-completers, and degree pursuers)."
   ]
  },
  {
   "cell_type": "code",
   "execution_count": null,
   "id": "34355e3d-58eb-48b8-94df-02fc8fef0082",
   "metadata": {},
   "outputs": [],
   "source": []
  }
 ],
 "metadata": {
  "colab": {
   "provenance": []
  },
  "kernelspec": {
   "display_name": "Python 3 (ipykernel)",
   "language": "python",
   "name": "python3"
  },
  "language_info": {
   "codemirror_mode": {
    "name": "ipython",
    "version": 3
   },
   "file_extension": ".py",
   "mimetype": "text/x-python",
   "name": "python",
   "nbconvert_exporter": "python",
   "pygments_lexer": "ipython3",
   "version": "3.8.10"
  }
 },
 "nbformat": 4,
 "nbformat_minor": 5
}
