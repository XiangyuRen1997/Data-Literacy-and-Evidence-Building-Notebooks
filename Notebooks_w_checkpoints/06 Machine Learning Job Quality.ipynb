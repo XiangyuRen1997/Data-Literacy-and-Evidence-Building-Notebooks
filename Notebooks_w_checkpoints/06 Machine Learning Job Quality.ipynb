{
 "cells": [
  {
   "cell_type": "markdown",
   "metadata": {},
   "source": [
    "# Machine Learning: Predict Job Quality\n",
    "\n",
    "**Tian Lou** \\\n",
    "Ohio Education Research Center \\\n",
    "The Ohio State University\n",
    "\n",
    "**Xiangyu Ren** \\\n",
    "New York University\n",
    "\n",
    "[![DOI](https://zenodo.org/badge/DOI/10.5281/zenodo.10257464.svg)](https://doi.org/10.5281/zenodo.10257464)\n",
    "\n",
    "**This notebook is developed for the [Data Literacy and Evidence Building Executive Class](https://www.socialdatascience.umd.edu/data-literacy).**\n",
    "\n",
    "**The \"Syntucky\" data, which is synthetic in nature, is exclusively designed for training exercises. It is not intended to derive meaningful insights or make determinations about real-world populations.**"
   ]
  },
  {
   "cell_type": "markdown",
   "metadata": {},
   "source": [
    "# Goals:\n",
    "\n",
    "In this notebook, we will show you how to use supervised machine learning (ML) models to evaluate policy interventions. Specifically, assume policymakers are interested in increasing Pell grant and expect that this policy will increase the number of students with high-earning jobs in the future. To explore whether this policy intervention will be effective, we will use 2013 and 2014 Syntucky cohort data to train a few ML models, including logisitc regression, decision tree, and random forest. Then we will evaluate these models by using the 2015 data and a few metrics, including accuracy, precision, and recall. These metrics will help us select the most suitable model in different scenarios. \n",
    "\n",
    "**The specific question we seek to answer in this notebook are**:\n",
    "\n",
    "1. Which students will have high-earning jobs during the seventh year since their first pursuit of a degree?\n",
    "2. How important is the Pell grant in determining whether a student has high earnings during the seventh year since his/her first pursuit of a degree?\n",
    "3. Which ML model should we use to predict students with high-earning jobs during the seventh year since their first pursuit of a degree?\n",
    "\n",
    "**After completing this notebook, you should:**\n",
    "1. Know what the training data and the testing data mean\n",
    "2. Be able to run basic ML models, such as logistic regression, decision tree, and random forest\n",
    "3. Understand how the choice of a threshold influences the confusion matrix and accuracy\n",
    "4. Comprehend the concepts of precision at k and recall at k\n",
    "5. Learn how to use model evaluation metrics to select a model"
   ]
  },
  {
   "cell_type": "markdown",
   "metadata": {},
   "source": [
    "## 1. Import Data"
   ]
  },
  {
   "cell_type": "markdown",
   "metadata": {},
   "source": [
    "To run ML models and to calculate evaluation metrics, we need several packages from the `sklearn` library. The [`sklearn` website](https://scikit-learn.org/stable/) has very detailed explanations and examples about each package. "
   ]
  },
  {
   "cell_type": "code",
   "execution_count": 1,
   "metadata": {},
   "outputs": [],
   "source": [
    "#Data Analysis Libraries\n",
    "import pandas as pd\n",
    "import numpy as np\n",
    "\n",
    "#Visualization Library\n",
    "import matplotlib.pyplot as plt\n",
    "\n",
    "#Machine Learning Libraries\n",
    "\n",
    "#Logistic Regression Model\n",
    "import statsmodels.api as sm \n",
    "\n",
    "#Decision Tree Model\n",
    "from sklearn.tree import DecisionTreeClassifier \n",
    "from sklearn.tree import plot_tree #Package used to plot decision tree\n",
    "\n",
    "#Random Forest Model \n",
    "from sklearn.ensemble import RandomForestClassifier \n",
    "\n",
    "#Model Evaluation Metrics\n",
    "from sklearn.metrics import (confusion_matrix,accuracy_score,precision_score,recall_score,mean_squared_error) "
   ]
  },
  {
   "cell_type": "markdown",
   "metadata": {},
   "source": [
    "We also run the [Functions](Functions.ipynb) notebook here so that we can use the functions (code that will be used repeatedly) stored in it later.\n",
    "> Before running the code below, please change <font color='red'> **YOUR USERNAME**</font> to your username or your own file path."
   ]
  },
  {
   "cell_type": "code",
   "execution_count": 2,
   "metadata": {},
   "outputs": [],
   "source": [
    "#Run the notebook in which we store functions\n",
    "%run C:/Users/YOUR USERNAME/Documents/Functions.ipynb"
   ]
  },
  {
   "cell_type": "markdown",
   "metadata": {},
   "source": [
    "Let's first load the data we cleaned and saved in \"05 Machine Learning Data Preparation.ipynb\". To examine whether increasing Pell grant can increase students with high-earning jobs in year 7, we only need a subset of the data: students who had positive earnings in year 7 and whose Pell grant status is not null. Since we only create the label `label_high_earnings` for these students, we can just keep the data where `label_high_earnings` is not null.\n",
    "\n",
    "> Before running the code below, please change <font color='red'> **YOUR USERNAME**</font> to your username or your own file path. Also make sure that you have <font color='red'> **run all the code in \"05 Machine Learning Data Preparation.ipynb\"** </font> and have saved the cleaned data in your own folder."
   ]
  },
  {
   "cell_type": "code",
   "execution_count": 3,
   "metadata": {},
   "outputs": [],
   "source": [
    "#Load the data we cleaned in \"05 Machine Learning Data Preparation.ipynb\"\n",
    "#Make sure you have run all the code and saved the cleaned data in your own folder\n",
    "df_comb = pd.read_csv(r\"C:\\Users\\YOUR USERNAME\\Documents\\ML_dataset.csv\")\n",
    "\n",
    "#We define the label only for students who had positive earnings in year 7 and whose Pell grant status is not null\n",
    "#So we only need to drop students whose \"label_high_earnings\" is null\n",
    "df_comb = df_comb[df_comb['label_high_earnings'].isnull() == False]"
   ]
  },
  {
   "cell_type": "markdown",
   "metadata": {},
   "source": [
    "Then we need to split our data into the **training data (2013 and 2014 cohorts)** and the **testing data (2015 cohort)**. We will use the training data to run ML models and use the testing data for model selection. We also need to put the label and features in separate DataFrames so that it is easier for us to use them in the code later. Finally, remember to **remove unnecessary columns**, such as identifiers (`id` and `cohort_acadyr`).\n",
    "\n",
    "> **In practice, we should use the 2008 and 2009 cohorts as the training data.** This is because if we need to predict the 2015 cohort's outcomes in 2015 (the year they entered college), we would not know the 2013 and 2014 cohorts' year 7 outcomes. The most recent cohorts whose year 7 outcomes are available to us in 2015 would be the 2008 and 2009 cohorts. However, since we only have the 2013-2016 syntucky data, we use the 2013 and 2014 cohorts data to illustrate the process of developing ML models."
   ]
  },
  {
   "cell_type": "code",
   "execution_count": 4,
   "metadata": {},
   "outputs": [],
   "source": [
    "#Get the training data: 2013 and 2014 cohorts\n",
    "df_training = df_comb[(df_comb['cohort_acadyr'] == 2013) | (df_comb['cohort_acadyr'] == 2014) ]\n",
    "\n",
    "#Get the testing data: 2015 cohort\n",
    "df_testing = df_comb[df_comb['cohort_acadyr'] == 2015]\n",
    "\n",
    "#Save training data and testing data label and features in separate DataFrames\n",
    "X_train = df_training.drop(columns = ['id', 'cohort_acadyr', 'label_high_earnings', 'label_no_missing_earnings'], axis = 1)\n",
    "Y_train = df_training[['label_high_earnings']].values\n",
    "\n",
    "X_test = df_testing.drop(columns = ['id', 'cohort_acadyr', 'label_high_earnings', 'label_no_missing_earnings'], axis = 1)\n",
    "Y_test = df_testing[['label_high_earnings']].values "
   ]
  },
  {
   "cell_type": "markdown",
   "metadata": {},
   "source": [
    "## 2. Run Machine Learning Models"
   ]
  },
  {
   "cell_type": "markdown",
   "metadata": {},
   "source": [
    "### 2.1. Logistic Regression\n",
    "\n",
    "Let's start with the logistic regression model. Previously, we generated a list of dummy variables for all the categorical features. In order for the logistic regression model to work properly, we should drop one category (sometimes referred to as the omitted or reference category) from each group of features. For example, `gender_Female` and `gender_Male` are highly correlated and we should remove one of them. We typically drop the largest category."
   ]
  },
  {
   "cell_type": "code",
   "execution_count": 5,
   "metadata": {},
   "outputs": [],
   "source": [
    "#Define the reference category\n",
    "cols_to_drop = ['gender_Female', 'race_group_White', 'first_enroll_other', 'cohort_degree_pursuit_type_Bachelor']\n",
    "\n",
    "#Drop the reference categories from training and testing feature DataFrames\n",
    "X_train.drop(columns = cols_to_drop, inplace = True)\n",
    "X_test.drop(columns = cols_to_drop, inplace = True)"
   ]
  },
  {
   "cell_type": "markdown",
   "metadata": {},
   "source": [
    "Now we can use `sm.Logit().fit()` from `statsmodel` library to run logistic regression models. We need to specify the label (`Y_train`) and the feature Dataframes (`X_train`). The function `sm.add_constant()` adds a column of ones to the feature Dataframe so that the estimated results include a constant term. Model results are saved in `log_reg`, which is a model object and includes a variety of attributes. We can then use `print(log_reg.summary())` to see the results, such as coefficients and significance level.\n",
    "\n",
    "> You can also use the `LogisticRegression` function from the `sklearn` library to train a logistic regression model. The results from both packages are similar. We choose `sm.Logit()` here because it generates a more aesthetically pleasing summary table than the package from `sklearn`. It also allows us to see the weight (coefficient) and significance level of each feature."
   ]
  },
  {
   "cell_type": "code",
   "execution_count": 6,
   "metadata": {},
   "outputs": [
    {
     "name": "stdout",
     "output_type": "stream",
     "text": [
      "Optimization terminated successfully.\n",
      "         Current function value: 0.676958\n",
      "         Iterations 4\n",
      "                           Logit Regression Results                           \n",
      "==============================================================================\n",
      "Dep. Variable:                      y   No. Observations:                57822\n",
      "Model:                          Logit   Df Residuals:                    57809\n",
      "Method:                           MLE   Df Model:                           12\n",
      "Date:                Wed, 29 Nov 2023   Pseudo R-squ.:                 0.01997\n",
      "Time:                        20:55:50   Log-Likelihood:                -39143.\n",
      "converged:                       True   LL-Null:                       -39941.\n",
      "Covariance Type:            nonrobust   LLR p-value:                     0.000\n",
      "========================================================================================================\n",
      "                                           coef    std err          z      P>|z|      [0.025      0.975]\n",
      "--------------------------------------------------------------------------------------------------------\n",
      "const                                    0.1926      0.081      2.384      0.017       0.034       0.351\n",
      "first_enroll_acadyr_pell_disbursed      -0.3158      0.017    -18.108      0.000      -0.350      -0.282\n",
      "instate_origin                           0.0184      0.079      0.233      0.816      -0.136       0.173\n",
      "gender_Male                              0.3848      0.017     22.425      0.000       0.351       0.418\n",
      "race_group_Black                        -0.3126      0.027    -11.568      0.000      -0.366      -0.260\n",
      "race_group_Other                        -0.1399      0.044     -3.158      0.002      -0.227      -0.053\n",
      "first_enroll_Missing                    -0.0034      0.251     -0.013      0.989      -0.496       0.489\n",
      "first_enroll_business                    0.2857      0.030      9.534      0.000       0.227       0.344\n",
      "first_enroll_computerscience             0.1898      0.049      3.855      0.000       0.093       0.286\n",
      "first_enroll_education                   0.0427      0.038      1.112      0.266      -0.033       0.118\n",
      "first_enroll_nursing                     0.3477      0.027     12.936      0.000       0.295       0.400\n",
      "cohort_degree_pursuit_type_Associate    -0.1847      0.018    -10.441      0.000      -0.219      -0.150\n",
      "year7_age_scl                            0.0129      0.047      0.275      0.783      -0.079       0.105\n",
      "========================================================================================================\n"
     ]
    }
   ],
   "source": [
    "#Fit the logistic regression model\n",
    "log_reg = sm.Logit(Y_train, sm.add_constant(X_train)).fit()\n",
    "\n",
    "#See weights (coefficients) and significance\n",
    "print(log_reg.summary())"
   ]
  },
  {
   "cell_type": "markdown",
   "metadata": {},
   "source": [
    "Based on the summary table, the weight on `first_enroll_acadyr_pell_disbursed` is negative and significant. This implies that receiving Pell grant in year 1 is negatively associated with having high-earning jobs in year 7. The weight on Pell grant status is the largest among all features that are negatively associated with the label. Students who enrolled in nursing, business, and computer science have higher likelihoods of having high earnings in year 7 than students enrolled in other majors in year 1.\n",
    "\n",
    "> *Does this mean Pell grant is not effective in improving students' labor market outcomes?* There are several limitations in our data. First, we only have students in-state employment and earnings. Students who received Pell grant in year 1 but worked in other states in year 7 may have higher earnings than those who stayed. Second, we only have year 1 Pell grant status in the synthetic data. In practice, if you have the actual Pell grant amount, you could use it as a feature and see if the results change. Finally, we could add other features to the model and check if the weight on Pell grant status change."
   ]
  },
  {
   "cell_type": "markdown",
   "metadata": {},
   "source": [
    "### 2.2. Logistic Regression Model Evaluation\n",
    "\n",
    "**How good is our logistic regression model in predicting year 7 job quality?** We checked the weight on each feature in the previous section. Can these features and the logistic regression model accurately predict students who will have high earnings in year 7? First, let's use the coefficients from the logistic regression model to predict outcomes for students in the testing data. We can use `log_reg.predict()` to predict outcomes. We just need to specify the Dataframe that contains testing data features inside of the parenthesis. \n",
    "\n",
    "Unlike the values of the actual label (0 or 1), our predicted outcomes are a list of scores ranging from 0 to 1. We can claim that a student with a score of 0.59 is more likely to have high earnings in year 7 than a student with a score of 0.35. However, whether we should predict a student with a score of 0.59 to have high earnings in year 7 depends on the **threshold** we choose. For example, if we set the threshold to be 0.5, any student with a score higher than 0.5 is predicted to have high earnings in year 7. "
   ]
  },
  {
   "cell_type": "code",
   "execution_count": null,
   "metadata": {},
   "outputs": [],
   "source": [
    "#Predict outcomes of students in the testing data\n",
    "df_testing.loc[:, 'lr_y_scores'] = log_reg.predict(sm.add_constant(X_test))\n",
    "\n",
    "#Predicted scores distribution\n",
    "print(df_testing['lr_y_scores'].describe())\n",
    "\n",
    "#Set a threshold of 0.5, meaning we predict any student with a score higher than 0.5 to have high earnings in year 7\n",
    "df_testing.loc[:, 'lr_predicted'] = (df_testing['lr_y_scores'] > 0.5).astype(int)\n",
    "\n",
    "#See the first five rows\n",
    "df_testing[['label_high_earnings', 'lr_y_scores', 'lr_predicted']].head()"
   ]
  },
  {
   "cell_type": "markdown",
   "metadata": {},
   "source": [
    "We can see that among the first five students, when we use a threshold of 0.5, the first, third, and fourth students are predicted to have high earnings in year 7. The first student actually had high earnings in year 7. We call this case **True Positive (TP)**. The third and fourth students did not have high earnings in year 7 in reality, so they are the **False Positive (FP)** cases. On the contrary, the fifth student actually had high earnings in year 7 but is predicted to not have high earnings. This case is what we call **False Negative (FN)**. Finally, the second student actually had negative outcomes and are predicted to have negative outcomes. We refer to this case as **True Negative (TN)**. We usually use the **Confusion Matrix** to show how many students are in each case.\n",
    "\n",
    "The `sklearn` library provides a convenient function `confustion_matrix` for us to calculate the confusion matrix. We just need to define the testing data labels (`Y_test`), the predicted labels at a given threshold (`df_testing['lr_predicted_50']`), and the values of the label (`labels = [0, 1]`). The graph below shows the meaning of each number in the confusion matrix. For example, with a threshold of 0.5, the logisitc regression accurately predicts 10,791 students who actually had high earnings in year 7.\n",
    "\n",
    "![confusion_matrix.png](confusion_matrix.png)"
   ]
  },
  {
   "cell_type": "code",
   "execution_count": 8,
   "metadata": {},
   "outputs": [
    {
     "name": "stdout",
     "output_type": "stream",
     "text": [
      "Logistic Regression, Confusion matrix at the threshold of 0.5:\n",
      "[[ 4742  7592]\n",
      " [ 3975 10791]]\n"
     ]
    }
   ],
   "source": [
    "#Calculate confusion matrix for a threshold of 0.5\n",
    "lr_conf_matrix_50 = confusion_matrix(Y_test, df_testing['lr_predicted'], labels = [0, 1])\n",
    "\n",
    "#Print the confusion matrix\n",
    "print(\"Logistic Regression, Confusion matrix at the threshold of 0.5:\")\n",
    "print(lr_conf_matrix_50)"
   ]
  },
  {
   "cell_type": "markdown",
   "metadata": {},
   "source": [
    "*How would the confusion matrix change if we raise the threshold?* We can see that with a threshold of 0.6, the logistic regression model is able to capture fewer students with high earnings than when the threshold is at 0.5 (4,652 vs.10,791). The model also has more false negative (3,975 vs. 10,114) and fewer false positive students (2,591 vs. 7592). This implies that with a lower threshold, we will reduce wasting resources on students who will have high earnings without interventions but will miss more students who actually need interventions. "
   ]
  },
  {
   "cell_type": "code",
   "execution_count": 9,
   "metadata": {},
   "outputs": [
    {
     "name": "stdout",
     "output_type": "stream",
     "text": [
      "Logistic Regression, Confusion matrix at the threshold of 0.6:\n",
      "[[ 9743  2591]\n",
      " [10114  4652]]\n"
     ]
    },
    {
     "name": "stderr",
     "output_type": "stream",
     "text": [
      "C:\\Users\\tian.lou\\AppData\\Local\\Temp\\11\\ipykernel_836\\2822708193.py:4: SettingWithCopyWarning: \n",
      "A value is trying to be set on a copy of a slice from a DataFrame.\n",
      "Try using .loc[row_indexer,col_indexer] = value instead\n",
      "\n",
      "See the caveats in the documentation: https://pandas.pydata.org/pandas-docs/stable/user_guide/indexing.html#returning-a-view-versus-a-copy\n",
      "  df_testing.loc[:, 'lr_predicted_60'] = (df_testing['lr_y_scores'] > 0.6).astype(int)\n"
     ]
    }
   ],
   "source": [
    "#Set the threshold of 0.6\n",
    "\n",
    "#Predict outcomes for the threshold of 0.6\n",
    "df_testing.loc[:, 'lr_predicted_60'] = (df_testing['lr_y_scores'] > 0.6).astype(int)\n",
    "\n",
    "#Calculate confusion matrix for a threshold of 0.6\n",
    "lr_conf_matrix_60 = confusion_matrix(Y_test, df_testing['lr_predicted_60'], labels = [0, 1])\n",
    "\n",
    "#Print the confusion matrix\n",
    "print(\"Logistic Regression, Confusion matrix at the threshold of 0.6:\")\n",
    "print(lr_conf_matrix_60)"
   ]
  },
  {
   "cell_type": "markdown",
   "metadata": {},
   "source": [
    "Now, let's see a few model evaluation metrics. The commonly used metrics are accuracy, precision, and recall. **Accuracy** indicates the percentage of the predicted outcomes (both positive and negative) are the same as the actual outcomes. It is not always the best metric for model selection, because sometimes we may only care about the accuracy in predicting positive (or negative) outcomes. In this case, we can use **precision**, which measures how accurate a model is in predicting positive outcomes. For example, assume we use a model to select students who will have high earnings in the future and will not have interventions on these students. *If we want to avoid missing students who actually need interventions, we want to minimize false positive and need a model with high precision*. *In another scenario, if we want to reduce wasting resouces on students who do not need interventions and capture as many students with high earnings as possible, we want to minimize false negative cases*. In this case, we need to use **recall**. Using the concepts from the confusion matrix, we can express the three metrics as:\n",
    "\n",
    "$$\n",
    "accuracy = \\frac{TP + TN}{TP + FP + TN + FN}\\\n",
    "$$\n",
    "\n",
    "$$\n",
    "precision = \\frac{TP}{TP + FP}\\\n",
    "$$\n",
    "\n",
    "$$\n",
    "recall = \\frac{TP}{TP + FN}\\\n",
    "$$"
   ]
  },
  {
   "cell_type": "markdown",
   "metadata": {},
   "source": [
    "Before we calculate these measures, an important question is \"**which threshold should we use to calculate these measures**\"? *We typically do not choose the threshold directly. Instead, we should consider that given the limited resources we have, such as funding, what percentage of students we can afford to have interventions on.* For example, assume that we have funding to support 20% of students. In this case, we can rank our model's predicted scores from the highest to the lowest. Then the top 80% of students will be predicted to have high earnings (label = 1). The bottom 20% of students will be predicted to not have high earnings (label = 0) and will receive interventions. \n",
    "\n",
    "In the code below, we use three functions, `accuracy_at_k`, `precision_at_k`, and `recall_at_k` (the three functions are stored in the [Functions](Functions.ipynb) notebook) to calculate accuracy, precision, and recall. In this case, **k means the percentage of students we will predict to have successful outcomes (high earnings).**  In each of these functions, we need to define the actual labels (`df_testing['label_high_earnings']`), the predicted scores from the model (`df_testing['lr_y_scores']`), and k. "
   ]
  },
  {
   "cell_type": "code",
   "execution_count": 10,
   "metadata": {},
   "outputs": [
    {
     "data": {
      "text/html": [
       "<div>\n",
       "<style scoped>\n",
       "    .dataframe tbody tr th:only-of-type {\n",
       "        vertical-align: middle;\n",
       "    }\n",
       "\n",
       "    .dataframe tbody tr th {\n",
       "        vertical-align: top;\n",
       "    }\n",
       "\n",
       "    .dataframe thead th {\n",
       "        text-align: right;\n",
       "    }\n",
       "</style>\n",
       "<table border=\"1\" class=\"dataframe\">\n",
       "  <thead>\n",
       "    <tr style=\"text-align: right;\">\n",
       "      <th></th>\n",
       "      <th>Metric</th>\n",
       "      <th>K = 80%</th>\n",
       "      <th>K = 90%</th>\n",
       "    </tr>\n",
       "  </thead>\n",
       "  <tbody>\n",
       "    <tr>\n",
       "      <th>0</th>\n",
       "      <td>Accuracy</td>\n",
       "      <td>0.566642</td>\n",
       "      <td>0.559373</td>\n",
       "    </tr>\n",
       "    <tr>\n",
       "      <th>1</th>\n",
       "      <td>Precision</td>\n",
       "      <td>0.569510</td>\n",
       "      <td>0.557529</td>\n",
       "    </tr>\n",
       "    <tr>\n",
       "      <th>2</th>\n",
       "      <td>Recall</td>\n",
       "      <td>0.838413</td>\n",
       "      <td>0.927062</td>\n",
       "    </tr>\n",
       "  </tbody>\n",
       "</table>\n",
       "</div>"
      ],
      "text/plain": [
       "      Metric   K = 80%   K = 90%\n",
       "0   Accuracy  0.566642  0.559373\n",
       "1  Precision  0.569510  0.557529\n",
       "2     Recall  0.838413  0.927062"
      ]
     },
     "execution_count": 10,
     "metadata": {},
     "output_type": "execute_result"
    }
   ],
   "source": [
    "#Accuracy, Precision and Recall \n",
    "\n",
    "#Accuracy\n",
    "lr_accuracy_80 = accuracy_at_k(df_testing['label_high_earnings'], df_testing['lr_y_scores'], 0.8)\n",
    "lr_accuracy_90 = accuracy_at_k(df_testing['label_high_earnings'], df_testing['lr_y_scores'], 0.9)\n",
    "\n",
    "#Precision\n",
    "lr_precision_80 = precision_at_k(df_testing['label_high_earnings'], df_testing['lr_y_scores'], 0.8)\n",
    "lr_precision_90 = precision_at_k(df_testing['label_high_earnings'], df_testing['lr_y_scores'], 0.9)\n",
    "\n",
    "#Recall\n",
    "lr_recall_80 = recall_at_k(df_testing['label_high_earnings'], df_testing['lr_y_scores'], 0.8)\n",
    "lr_recall_90 = recall_at_k(df_testing['label_high_earnings'], df_testing['lr_y_scores'], 0.9)\n",
    "\n",
    "#Write results to a DataFrame\n",
    "lr_metrics = pd.DataFrame([['Accuracy', lr_accuracy_80, lr_accuracy_90],\n",
    "                          ['Precision', lr_precision_80, lr_precision_90],\n",
    "                          ['Recall', lr_recall_80, lr_recall_90]],\n",
    "                          columns = ['Metric', 'K = 80%', 'K = 90%'])\n",
    "\n",
    "#See results\n",
    "lr_metrics"
   ]
  },
  {
   "cell_type": "markdown",
   "metadata": {},
   "source": [
    "We can see that when the k is at 80%, accuracy is about 0.57, meaning the logisitc regression model can accurately predict 57% students' outcomes (both positive and negative outcomes). Precision is also about 57%, meaning among the students the logisitic regression model predicts to have positive outcomes, 57% of them actually have positive outcomes. Recall is about 84%, which implies that of all the students who have positive outcomes, the logistic regression model is able to capture 84% of them. If there is a funding cut and we can only have interventions on 10% of the students, in this case, we need to set k at 90%. "
   ]
  },
  {
   "cell_type": "markdown",
   "metadata": {},
   "source": [
    "#### **Checkpoint 1:Evaluate the Logistic Regression Model with a K of 0.7**\n",
    "\n",
    "Assume there is a funding increase and now we can have interventions on 30% of the students. Calculate the accuracy, precision, and recall at 70%. If you need the logistic regression model to predict students with high earnings more accurately, which metric should you use to select the model?"
   ]
  },
  {
   "cell_type": "code",
   "execution_count": null,
   "metadata": {},
   "outputs": [],
   "source": []
  },
  {
   "cell_type": "markdown",
   "metadata": {},
   "source": [
    "### 2.3. Decision Tree\n",
    "\n",
    "The second model is the decision tree model, which is a non-parametric supervised machine learning method. The model predicts outcomes by learning simple decision rules from data structure. We can visualize these rules after training the model. First, we define model parameters in `DecisionTreeClassifier()`. In this example, we only specify the maximum depth of the three (`max_depth = 3`). As you gain more understanding about the decision tree model, you may want to define other parameters, such as `min_samples_split` (the minimum number of samples required to split an internal node). We fit the model by using `dt.fit(X_train, Y_train)` and the model object is saved in `dt_model`. \n",
    "\n",
    "The `plot_tree()` package allows you to visualize the results. You should define the model object (`dt_model`) and feature names (`list(X_train.columns)`). We can see that the the most important feature the decision tree model used to determine students' outcomes is first year pell grant status. This is consistent with the finding in the logistic regression, in which first year pell grant status has the highest weight in magnitude. In the next section, we will calculate evaluation metrics for the decision tree model, and run a couple of additional models."
   ]
  },
  {
   "cell_type": "code",
   "execution_count": 11,
   "metadata": {},
   "outputs": [
    {
     "data": {
      "text/plain": [
       "[Text(0.5, 0.8333333333333334, 'first_enroll_acadyr_pell_disbursed <= 0.5\\ngini = 0.498\\nsamples = 57822\\nvalue = [26912, 30910]'),\n",
       " Text(0.25, 0.5, 'gender_Male <= 0.5\\ngini = 0.484\\nsamples = 27082\\nvalue = [11137, 15945]'),\n",
       " Text(0.125, 0.16666666666666666, 'gini = 0.495\\nsamples = 13970\\nvalue = [6312, 7658]'),\n",
       " Text(0.375, 0.16666666666666666, 'gini = 0.465\\nsamples = 13112\\nvalue = [4825, 8287]'),\n",
       " Text(0.75, 0.5, 'gender_Male <= 0.5\\ngini = 0.5\\nsamples = 30740\\nvalue = [15775, 14965]'),\n",
       " Text(0.625, 0.16666666666666666, 'gini = 0.494\\nsamples = 18683\\nvalue = [10341, 8342]'),\n",
       " Text(0.875, 0.16666666666666666, 'gini = 0.495\\nsamples = 12057\\nvalue = [5434, 6623]')]"
      ]
     },
     "execution_count": 11,
     "metadata": {},
     "output_type": "execute_result"
    },
    {
     "data": {
      "image/png": "[encoded data removed]",
      "text/plain": [
       "<Figure size 1200x800 with 1 Axes>"
      ]
     },
     "metadata": {},
     "output_type": "display_data"
    }
   ],
   "source": [
    "#Run the model\n",
    "dt = DecisionTreeClassifier(max_depth = 2)\n",
    "dt_model = dt.fit(X_train,Y_train)\n",
    "\n",
    "#Plot the decision tree graph\n",
    "plt.figure(figsize=(12,8))\n",
    "plot_tree(dt_model, feature_names = list(X_train.columns))"
   ]
  },
  {
   "cell_type": "markdown",
   "metadata": {},
   "source": [
    "### 2.4 Compare Multiple Models\n",
    "\n",
    "In this section, we use a loop to run a few models, calculate their metrics at different threshold, and save all results to one DataFrame. This way, it is easier for us to compare results from multiple models at the same time. In addition to the logistic regression and decision tree models, we add two baseline models and the random forest model. We use the **baseline model** to check whether it is necessary to use ML models for prediction. For example, *in a baseline model, we can randomly guess each student's outcome or guess all the students to have positive outcomes*. *If the baseline model is more accurate than our ML models in predicting outcomes, we may need to adjust the ML models or not use them at all.*\n",
    "\n",
    "> Note that the decision tree model parameters have been adjusted. Now the maximum depth is 7 and the minimum required samples for split a node is 10."
   ]
  },
  {
   "cell_type": "code",
   "execution_count": 12,
   "metadata": {},
   "outputs": [],
   "source": [
    "#Define the list of models we will train\n",
    "models = { 'Baseline_random': np.random.uniform(0,1,len(Y_test)),\n",
    "           'Baseline_allones': np.ones(len(Y_test)),\n",
    "           'RandomForest': RandomForestClassifier(n_estimators = 500, max_depth = 3,n_jobs = 2),\n",
    "           'LogisticRegression': sm.Logit(Y_train,sm.add_constant(X_train)),\n",
    "           'DecisionTree': DecisionTreeClassifier(max_depth = 7, min_samples_split = 10)\n",
    "         }\n",
    "\n",
    "#Define a list of model names for looping\n",
    "model_list = ['Baseline_random','Baseline_allones','RandomForest','LogisticRegression','DecisionTree']"
   ]
  },
  {
   "cell_type": "code",
   "execution_count": 13,
   "metadata": {
    "scrolled": true
   },
   "outputs": [
    {
     "name": "stdout",
     "output_type": "stream",
     "text": [
      "Optimization terminated successfully.\n",
      "         Current function value: 0.676958\n",
      "         Iterations 4\n"
     ]
    },
    {
     "data": {
      "text/html": [
       "<div>\n",
       "<style scoped>\n",
       "    .dataframe tbody tr th:only-of-type {\n",
       "        vertical-align: middle;\n",
       "    }\n",
       "\n",
       "    .dataframe tbody tr th {\n",
       "        vertical-align: top;\n",
       "    }\n",
       "\n",
       "    .dataframe thead th {\n",
       "        text-align: right;\n",
       "    }\n",
       "</style>\n",
       "<table border=\"1\" class=\"dataframe\">\n",
       "  <thead>\n",
       "    <tr style=\"text-align: right;\">\n",
       "      <th></th>\n",
       "      <th>Model</th>\n",
       "      <th>accuracy_at_80</th>\n",
       "      <th>precision_at_80</th>\n",
       "      <th>recall_at_80</th>\n",
       "      <th>accuracy_at_90</th>\n",
       "      <th>precision_at_90</th>\n",
       "      <th>recall_at_90</th>\n",
       "    </tr>\n",
       "  </thead>\n",
       "  <tbody>\n",
       "    <tr>\n",
       "      <th>0</th>\n",
       "      <td>Baseline_random</td>\n",
       "      <td>0.526015</td>\n",
       "      <td>0.544301</td>\n",
       "      <td>0.799201</td>\n",
       "      <td>0.536052</td>\n",
       "      <td>0.544955</td>\n",
       "      <td>0.900176</td>\n",
       "    </tr>\n",
       "    <tr>\n",
       "      <th>0</th>\n",
       "      <td>Baseline_allones</td>\n",
       "      <td>0.544871</td>\n",
       "      <td>0.544871</td>\n",
       "      <td>1.000000</td>\n",
       "      <td>0.544871</td>\n",
       "      <td>0.544871</td>\n",
       "      <td>1.000000</td>\n",
       "    </tr>\n",
       "    <tr>\n",
       "      <th>0</th>\n",
       "      <td>RandomForest</td>\n",
       "      <td>0.565756</td>\n",
       "      <td>0.568535</td>\n",
       "      <td>0.842137</td>\n",
       "      <td>0.555092</td>\n",
       "      <td>0.553191</td>\n",
       "      <td>0.954016</td>\n",
       "    </tr>\n",
       "    <tr>\n",
       "      <th>0</th>\n",
       "      <td>LogisticRegression</td>\n",
       "      <td>0.566642</td>\n",
       "      <td>0.569510</td>\n",
       "      <td>0.838413</td>\n",
       "      <td>0.559373</td>\n",
       "      <td>0.557529</td>\n",
       "      <td>0.927062</td>\n",
       "    </tr>\n",
       "    <tr>\n",
       "      <th>0</th>\n",
       "      <td>DecisionTree</td>\n",
       "      <td>0.565203</td>\n",
       "      <td>0.568780</td>\n",
       "      <td>0.835297</td>\n",
       "      <td>0.553469</td>\n",
       "      <td>0.552016</td>\n",
       "      <td>0.957673</td>\n",
       "    </tr>\n",
       "  </tbody>\n",
       "</table>\n",
       "</div>"
      ],
      "text/plain": [
       "                Model  accuracy_at_80  precision_at_80  recall_at_80  \\\n",
       "0     Baseline_random        0.526015         0.544301      0.799201   \n",
       "0    Baseline_allones        0.544871         0.544871      1.000000   \n",
       "0        RandomForest        0.565756         0.568535      0.842137   \n",
       "0  LogisticRegression        0.566642         0.569510      0.838413   \n",
       "0        DecisionTree        0.565203         0.568780      0.835297   \n",
       "\n",
       "   accuracy_at_90  precision_at_90  recall_at_90  \n",
       "0        0.536052         0.544955      0.900176  \n",
       "0        0.544871         0.544871      1.000000  \n",
       "0        0.555092         0.553191      0.954016  \n",
       "0        0.559373         0.557529      0.927062  \n",
       "0        0.553469         0.552016      0.957673  "
      ]
     },
     "execution_count": 13,
     "metadata": {},
     "output_type": "execute_result"
    }
   ],
   "source": [
    "#Define an empty DataFrame for storing results\n",
    "df_results = pd.DataFrame()\n",
    "\n",
    "#Loop through all the models\n",
    "for m in model_list:\n",
    "\n",
    "    #Fit models\n",
    "    if (m == 'Baseline_random' or m =='Baseline_allones'):\n",
    "        np.random.seed(20)\n",
    "        y_scores = models[m]\n",
    "    elif (m == 'RandomForest' or m == 'DecisionTree'):\n",
    "        clf = models[m].fit(X_train,Y_train.ravel())\n",
    "        y_scores = clf.predict_proba(X_test)[:,1]\n",
    "    elif m == 'LogisticRegression':\n",
    "        clf = models[m].fit()\n",
    "        y_scores = clf.predict(sm.add_constant(X_test))\n",
    "\n",
    "    #Calculate metrics at different threshold\n",
    "    #If you need to add additional metrics and/or threshold, you can add to this list\n",
    "    a_at_80 = accuracy_at_k(Y_test, y_scores, 0.8) \n",
    "    a_at_90 = accuracy_at_k(Y_test, y_scores, 0.9)\n",
    "    p_at_80 = precision_at_k(Y_test, y_scores, 0.8)\n",
    "    p_at_90 = precision_at_k(Y_test, y_scores, 0.9)\n",
    "    r_at_80 = recall_at_k(Y_test, y_scores, 0.8)\n",
    "    r_at_90 = recall_at_k(Y_test, y_scores, 0.9)\n",
    "\n",
    "    #Add the results to the df_results DataFrame\n",
    "    #If you added additional metrics and/or threshold above, you should add them to this list as well\n",
    "    df_results = df_results._append([{\n",
    "        'Model':m,\n",
    "        'accuracy_at_80':a_at_80,\n",
    "        'precision_at_80':p_at_80,\n",
    "        'recall_at_80':r_at_80,\n",
    "        'accuracy_at_90':a_at_90,\n",
    "        'precision_at_90':p_at_90,\n",
    "        'recall_at_90':r_at_90,\n",
    "    }])\n",
    "\n",
    "#Show results\n",
    "df_results"
   ]
  },
  {
   "cell_type": "markdown",
   "metadata": {},
   "source": [
    "#### **Checkpoint 2: Use the Evaluation Metrics to Select A Model**\n",
    "\n",
    "Assume the funding for the policy intervention can only cover 10% of the students. Use the evaluation metrics results in the above table to select a model that allows to you aovid misallocation of resources as much as possible."
   ]
  },
  {
   "cell_type": "markdown",
   "metadata": {},
   "source": [
    "## Notebook Reference\n",
    "\n",
    "This notebook is inspired by previous ADA training courses machine learning notebooks, specifically:\n",
    "\n",
    "Drew. (2019). Coleridge-Initiative/ada-2019-osu: Published version 1 of OSU ADA training course (v1.0.0). Zenodo. https://doi.org/10.5281/zenodo.2672963\n",
    "\n",
    "Drew. (2019). Coleridge-Initiative/ada-2019-osu: Published version 1 of OSU ADA training course (v1.0.0). Zenodo. https://doi.org/10.5281/zenodo.2672963\n",
    "\n",
    "Drew. (2019). Coleridge-Initiative/ada-2019-osu: Published version 1 of OSU ADA training course (v1.0.0). Zenodo. https://doi.org/10.5281/zenodo.2672963\n",
    "\n",
    "Lou, T. (2022, March 18). Machine Learning Model Development and Feature Creation Using Illinois Unemployment Insurance Data. Zenodo. https://doi.org/10.5281/zenodo.6368905\n",
    "\n",
    "Lou, T. (2022, March 18). Machine Learning Model Deployment and Evaluation Using Illinois Unemployment Insurance Data. Zenodo. https://doi.org/10.5281/zenodo.6369160"
   ]
  },
  {
   "cell_type": "code",
   "execution_count": null,
   "metadata": {},
   "outputs": [],
   "source": []
  }
 ],
 "metadata": {
  "kernelspec": {
   "display_name": "Python 3",
   "language": "python",
   "name": "python3"
  },
  "language_info": {
   "codemirror_mode": {
    "name": "ipython",
    "version": 3
   },
   "file_extension": ".py",
   "mimetype": "text/x-python",
   "name": "python",
   "nbconvert_exporter": "python",
   "pygments_lexer": "ipython3",
   "version": "3.8.3"
  }
 },
 "nbformat": 4,
 "nbformat_minor": 4
}
