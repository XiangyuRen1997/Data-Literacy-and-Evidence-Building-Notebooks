{
 "cells": [
  {
   "attachments": {},
   "cell_type": "markdown",
   "metadata": {
    "id": "3nN706LF7Wel"
   },
   "source": [
    "# Data Exploration Checkpoint Answers\n",
    "\n",
    "**Tian Lou** \\\n",
    "Ohio Education Research Center \\\n",
    "The Ohio State University\n",
    "\n",
    "**Xiangyu Ren** \\\n",
    "New York University\n",
    "\n",
    "**Anna-Carolina Haensch** \\\n",
    "University of Maryland \\\n",
    "LMU Munich\n",
    "\n",
    "[![DOI](https://zenodo.org/badge/DOI/10.5281/zenodo.10257347.svg)](https://doi.org/10.5281/zenodo.10257347)\n",
    "\n",
    "**This notebook is developed for the [Data Literacy and Evidence Building Executive Class](https://www.socialdatascience.umd.edu/data-literacy).**\n",
    "\n",
    "**The \"Syntucky\" data, which is synthetic in nature, is exclusively designed for training exercises. It is not intended to derive meaningful insights or make determinations about real-world populations.**"
   ]
  },
  {
   "cell_type": "markdown",
   "metadata": {},
   "source": [
    "Before running the code below, please change <font color='red'> **YOUR DATA DIRECTORY**</font> to your own file path."
   ]
  },
  {
   "cell_type": "code",
   "execution_count": null,
   "metadata": {
    "id": "r8ZEcwe57Wew"
   },
   "outputs": [],
   "source": [
    "#Load libraries\n",
    "import pandas as pd\n",
    "import numpy as np\n",
    "\n",
    "#Define data folder directory\n",
    "data_directory = 'YOUR DATA DIRECTORY'"
   ]
  },
  {
   "cell_type": "markdown",
   "metadata": {},
   "source": [
    "#### **Checkpoint 1: Import Cohort Data**\n",
    "\n",
    "Please load the 2013 cohort data and save it in `df_2013`. The csv file of the 2013 cohort data is *\"syntucky_cohort_2013.csv\"*."
   ]
  },
  {
   "cell_type": "code",
   "execution_count": null,
   "metadata": {
    "scrolled": true
   },
   "outputs": [],
   "source": [
    "#Read in 2013 Syntucky cohort data \n",
    "df_2013 = pd.read_csv(data_directory + 'syntucky_cohort_2013.csv')\n",
    "\n",
    "#Check the data\n",
    "df_2013.head()"
   ]
  },
  {
   "cell_type": "markdown",
   "metadata": {},
   "source": [
    "#### **Checkpoint 2: Check Data Structure**\n",
    "\n",
    "Please check if the data you load in Checkpoint 1 (`df_2013`) has duplicates and if it has the key information you need for your planned analysis."
   ]
  },
  {
   "cell_type": "code",
   "execution_count": null,
   "metadata": {
    "id": "mF2h8w4t7We1"
   },
   "outputs": [],
   "source": [
    "#Check number of rows and number of columns in df_2013\n",
    "df_2013.shape"
   ]
  },
  {
   "cell_type": "code",
   "execution_count": null,
   "metadata": {},
   "outputs": [],
   "source": [
    "#Check number of unique individuals in df_2013\n",
    "df_2013['id'].nunique()"
   ]
  },
  {
   "cell_type": "markdown",
   "metadata": {},
   "source": [
    "*The number of rows and the number of unique individuals are the same in `df_2013`. We do not need to worry about duplicates.*"
   ]
  },
  {
   "cell_type": "code",
   "execution_count": null,
   "metadata": {},
   "outputs": [],
   "source": [
    "#Check columns\n",
    "df_2013.columns"
   ]
  },
  {
   "cell_type": "markdown",
   "metadata": {
    "id": "510gswQp7We5"
   },
   "source": [
    "#### **Checkpoint 3: Create a subset of your data**\n",
    "\n",
    "Please use the subsetting technique you learned in this section to save students in the 2013 cohort who earned a bachelor's degree in education to a new DataFrame `df_2013_ed_ba`.\n",
    "\n",
    "Are you interested in other degree levels and majors? Try to save them in other DataFrames."
   ]
  },
  {
   "cell_type": "code",
   "execution_count": null,
   "metadata": {
    "id": "-K3l3oV97We5"
   },
   "outputs": [],
   "source": [
    "#Save students who earned a bachelor's degree in education in df_2013_ed_ba\n",
    "df_2013_ed_ba = df_2013[(df_2013['high_completion'] == 'education') & (df_2013['high_completion_label'] == 'Bachelor')]\n",
    "\n",
    "#Check the number of people\n",
    "df_2013_ed_ba.shape"
   ]
  },
  {
   "cell_type": "code",
   "execution_count": null,
   "metadata": {
    "scrolled": true
   },
   "outputs": [],
   "source": [
    "# You can also use groupby and agg to check number of people in each degree level and each major\n",
    "df_2013.groupby(['high_completion_label', 'high_completion'])['id'].agg(['count']).reset_index()"
   ]
  },
  {
   "cell_type": "markdown",
   "metadata": {},
   "source": [
    "#### **Checkpoint 4: Generate Descriptive Statistics and Check Missing Values**\n",
    "\n",
    "1. Use the 2013 cohort DataFrame you saved in Checkpoint 1, `df_2013`, to get 2013 cohort's mean and median earnings from year 5 - year 7.\n",
    "2. Use the 2013 education bachelor's degree earners DataFrame you saved in Checkpoint 3, `df_2013_ed_ba`, to get their mean and median earnings from year 5 - year 7.\n",
    "3. How many students in `df_2013_ed_ba` have missing earnings in year 7? "
   ]
  },
  {
   "cell_type": "code",
   "execution_count": null,
   "metadata": {
    "id": "ebMfnp4X7We9"
   },
   "outputs": [],
   "source": [
    "#Summary Statistics of the 2013 cohort's year 5 to year 7 earnings\n",
    "df_2013[['year5_earnings', 'year6_earnings', 'year7_earnings']].describe()"
   ]
  },
  {
   "cell_type": "code",
   "execution_count": null,
   "metadata": {},
   "outputs": [],
   "source": [
    "#Summary Statistics of the 2013 cohort's year 5 to year 7 earnings\n",
    "df_2013_ed_ba[['year5_earnings', 'year6_earnings', 'year7_earnings']].describe()"
   ]
  },
  {
   "cell_type": "code",
   "execution_count": null,
   "metadata": {},
   "outputs": [],
   "source": [
    "#Number of 2013 cohort students who earned education bachelor's degree\n",
    "count_ed_ba = df_2013_ed_ba['id'].nunique()\n",
    "\n",
    "#Number of 2013 cohort students who earned education bachelor's degree and \n",
    "# have missing year 7 earnings\n",
    "count_ed_ba_no_y7earn = df_2013_ed_ba['year7_earnings'].isna().sum()\n",
    "\n",
    "#print results\n",
    "print(\"In the 2013 cohort,\", count_ed_ba, \n",
    "      \"students' highest degree level is bachelor's degree in education.\")\n",
    "print(\"Of these students,\", count_ed_ba_no_y7earn, \"have missing earnings in year 7.\")\n",
    "print(\"In other words,\", round(count_ed_ba_no_y7earn/count_ed_ba, 3), \n",
    "      \"education bachelor's degree earners have missing earnings in year 7.\")"
   ]
  }
 ],
 "metadata": {
  "colab": {
   "provenance": []
  },
  "kernelspec": {
   "display_name": "Python 3 (ipykernel)",
   "language": "python",
   "name": "python3"
  },
  "language_info": {
   "codemirror_mode": {
    "name": "ipython",
    "version": 3
   },
   "file_extension": ".py",
   "mimetype": "text/x-python",
   "name": "python",
   "nbconvert_exporter": "python",
   "pygments_lexer": "ipython3",
   "version": "3.8.10"
  }
 },
 "nbformat": 4,
 "nbformat_minor": 4
}
