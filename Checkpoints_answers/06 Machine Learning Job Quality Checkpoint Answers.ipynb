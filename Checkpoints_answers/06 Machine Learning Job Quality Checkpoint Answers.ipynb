{
 "cells": [
  {
   "cell_type": "markdown",
   "metadata": {},
   "source": [
    "# Machine Learning: Predict Job Quality Checkpoint Answers\n",
    "\n",
    "**Tian Lou** \\\n",
    "Ohio Education Research Center \\\n",
    "The Ohio State University\n",
    "\n",
    "**Xiangyu Ren** \\\n",
    "New York University\n",
    "\n",
    "[![DOI](https://zenodo.org/badge/DOI/10.5281/zenodo.10257464.svg)](https://doi.org/10.5281/zenodo.10257464)\n",
    "\n",
    "**This notebook is developed for the [Data Literacy and Evidence Building Executive Class](https://www.socialdatascience.umd.edu/data-literacy).**\n",
    "\n",
    "**The \"Syntucky\" data, which is synthetic in nature, is exclusively designed for training exercises. It is not intended to derive meaningful insights or make determinations about real-world populations.**"
   ]
  },
  {
   "cell_type": "code",
   "execution_count": 1,
   "metadata": {},
   "outputs": [],
   "source": [
    "#Data Analysis Libraries\n",
    "import pandas as pd\n",
    "import numpy as np\n",
    "\n",
    "#Visualization Library\n",
    "import matplotlib.pyplot as plt\n",
    "\n",
    "#Machine Learning Libraries\n",
    "\n",
    "#Logistic Regression Model\n",
    "import statsmodels.api as sm \n",
    "\n",
    "#Decision Tree Model\n",
    "from sklearn.tree import DecisionTreeClassifier \n",
    "from sklearn.tree import plot_tree #Package used to plot decision tree\n",
    "\n",
    "#Random Forest Model \n",
    "from sklearn.ensemble import RandomForestClassifier \n",
    "\n",
    "#Model Evaluation Metrics\n",
    "from sklearn.metrics import (confusion_matrix,accuracy_score,precision_score,recall_score,mean_squared_error) "
   ]
  },
  {
   "cell_type": "markdown",
   "metadata": {},
   "source": [
    "Before running the code below, please change <font color='red'> **YOUR USERNAME**</font> to your username or your own file path."
   ]
  },
  {
   "cell_type": "code",
   "execution_count": 2,
   "metadata": {},
   "outputs": [],
   "source": [
    "#Run the notebook in which we store functions\n",
    "%run C:/Users/YOUR USERNAME/Documents/Functions.ipynb"
   ]
  },
  {
   "cell_type": "markdown",
   "metadata": {},
   "source": [
    "Before running the code below, please change <font color='red'> **YOUR USERNAME**</font> to your username or your own file path. Also make sure that you have <font color='red'> **run all the code in \"05 Machine Learning Data Preparation.ipynb\"** </font> and have saved the cleaned data in your own folder."
   ]
  },
  {
   "cell_type": "code",
   "execution_count": 3,
   "metadata": {},
   "outputs": [],
   "source": [
    "#Load the data we cleaned in \"05 Machine Learning Data Preparation.ipynb\"\n",
    "#Make sure you have run all the code and saved the cleaned data in your own folder\n",
    "df_comb = pd.read_csv(r\"C:\\Users\\YOUR USERNAME\\Documents\\ML_dataset.csv\")\n",
    "\n",
    "#We define the label only for students who had positive earnings in year 7 and whose Pell grant status is not null\n",
    "#So we only need to drop students whose \"label_high_earnings\" is null\n",
    "df_comb = df_comb[df_comb['label_high_earnings'].isnull() == False]"
   ]
  },
  {
   "cell_type": "code",
   "execution_count": 7,
   "metadata": {},
   "outputs": [],
   "source": [
    "#Get the training data: 2013 and 2014 cohorts\n",
    "df_training = df_comb[(df_comb['cohort_acadyr'] == 2013) | (df_comb['cohort_acadyr'] == 2014) ]\n",
    "\n",
    "#Get the testing data: 2015 cohort\n",
    "df_testing = df_comb[df_comb['cohort_acadyr'] == 2015]\n",
    "\n",
    "#Save training data and testing data label and features in separate DataFrames\n",
    "X_train = df_training.drop(columns = ['id', 'cohort_acadyr', 'label_high_earnings', 'label_no_missing_earnings'], axis = 1)\n",
    "Y_train = df_training[['label_high_earnings']].values\n",
    "\n",
    "X_test = df_testing.drop(columns = ['id', 'cohort_acadyr', 'label_high_earnings', 'label_no_missing_earnings'], axis = 1)\n",
    "Y_test = df_testing[['label_high_earnings']].values "
   ]
  },
  {
   "cell_type": "markdown",
   "metadata": {},
   "source": [
    "#### **Checkpoint 1:Evaluate the Logistic Regression Model with a K of 0.7**\n",
    "\n",
    "Assume there is a funding increase and now we can have interventions on 30% of the students. Calculate the accuracy, precision, and recall at 70%. If you need the logistic regression model to predict students with high earnings more accurately, which metric should you use to select the model?"
   ]
  },
  {
   "cell_type": "code",
   "execution_count": 8,
   "metadata": {},
   "outputs": [],
   "source": [
    "#Define the reference category\n",
    "cols_to_drop = ['gender_Female', 'race_group_White', 'first_enroll_other', 'cohort_degree_pursuit_type_Bachelor']\n",
    "\n",
    "#Drop the reference categories from training and testing features\n",
    "X_train.drop(columns = cols_to_drop, inplace = True)\n",
    "X_test.drop(columns = cols_to_drop, inplace = True)"
   ]
  },
  {
   "cell_type": "code",
   "execution_count": 9,
   "metadata": {},
   "outputs": [
    {
     "name": "stdout",
     "output_type": "stream",
     "text": [
      "Optimization terminated successfully.\n",
      "         Current function value: 0.676958\n",
      "         Iterations 4\n",
      "                           Logit Regression Results                           \n",
      "==============================================================================\n",
      "Dep. Variable:                      y   No. Observations:                57822\n",
      "Model:                          Logit   Df Residuals:                    57809\n",
      "Method:                           MLE   Df Model:                           12\n",
      "Date:                Wed, 29 Nov 2023   Pseudo R-squ.:                 0.01997\n",
      "Time:                        21:39:08   Log-Likelihood:                -39143.\n",
      "converged:                       True   LL-Null:                       -39941.\n",
      "Covariance Type:            nonrobust   LLR p-value:                     0.000\n",
      "========================================================================================================\n",
      "                                           coef    std err          z      P>|z|      [0.025      0.975]\n",
      "--------------------------------------------------------------------------------------------------------\n",
      "const                                    0.1926      0.081      2.384      0.017       0.034       0.351\n",
      "first_enroll_acadyr_pell_disbursed      -0.3158      0.017    -18.108      0.000      -0.350      -0.282\n",
      "instate_origin                           0.0184      0.079      0.233      0.816      -0.136       0.173\n",
      "gender_Male                              0.3848      0.017     22.425      0.000       0.351       0.418\n",
      "race_group_Black                        -0.3126      0.027    -11.568      0.000      -0.366      -0.260\n",
      "race_group_Other                        -0.1399      0.044     -3.158      0.002      -0.227      -0.053\n",
      "first_enroll_Missing                    -0.0034      0.251     -0.013      0.989      -0.496       0.489\n",
      "first_enroll_business                    0.2857      0.030      9.534      0.000       0.227       0.344\n",
      "first_enroll_computerscience             0.1898      0.049      3.855      0.000       0.093       0.286\n",
      "first_enroll_education                   0.0427      0.038      1.112      0.266      -0.033       0.118\n",
      "first_enroll_nursing                     0.3477      0.027     12.936      0.000       0.295       0.400\n",
      "cohort_degree_pursuit_type_Associate    -0.1847      0.018    -10.441      0.000      -0.219      -0.150\n",
      "year7_age_scl                            0.0129      0.047      0.275      0.783      -0.079       0.105\n",
      "========================================================================================================\n"
     ]
    }
   ],
   "source": [
    "#Fit the logistic regression model\n",
    "log_reg = sm.Logit(Y_train, sm.add_constant(X_train)).fit()\n",
    "\n",
    "#See weights (coefficients) and significance\n",
    "print(log_reg.summary())"
   ]
  },
  {
   "cell_type": "code",
   "execution_count": 10,
   "metadata": {},
   "outputs": [
    {
     "name": "stderr",
     "output_type": "stream",
     "text": [
      "C:\\Users\\tian.lou\\AppData\\Local\\Temp\\11\\ipykernel_7844\\1404335953.py:2: SettingWithCopyWarning: \n",
      "A value is trying to be set on a copy of a slice from a DataFrame.\n",
      "Try using .loc[row_indexer,col_indexer] = value instead\n",
      "\n",
      "See the caveats in the documentation: https://pandas.pydata.org/pandas-docs/stable/user_guide/indexing.html#returning-a-view-versus-a-copy\n",
      "  df_testing.loc[:, 'lr_y_scores'] = log_reg.predict(sm.add_constant(X_test))\n"
     ]
    },
    {
     "data": {
      "text/html": [
       "<div>\n",
       "<style scoped>\n",
       "    .dataframe tbody tr th:only-of-type {\n",
       "        vertical-align: middle;\n",
       "    }\n",
       "\n",
       "    .dataframe tbody tr th {\n",
       "        vertical-align: top;\n",
       "    }\n",
       "\n",
       "    .dataframe thead th {\n",
       "        text-align: right;\n",
       "    }\n",
       "</style>\n",
       "<table border=\"1\" class=\"dataframe\">\n",
       "  <thead>\n",
       "    <tr style=\"text-align: right;\">\n",
       "      <th></th>\n",
       "      <th>Metric</th>\n",
       "      <th>K = 70%</th>\n",
       "    </tr>\n",
       "  </thead>\n",
       "  <tbody>\n",
       "    <tr>\n",
       "      <th>0</th>\n",
       "      <td>Accuracy</td>\n",
       "      <td>0.572989</td>\n",
       "    </tr>\n",
       "    <tr>\n",
       "      <th>1</th>\n",
       "      <td>Precision</td>\n",
       "      <td>0.584168</td>\n",
       "    </tr>\n",
       "    <tr>\n",
       "      <th>2</th>\n",
       "      <td>Recall</td>\n",
       "      <td>0.750643</td>\n",
       "    </tr>\n",
       "  </tbody>\n",
       "</table>\n",
       "</div>"
      ],
      "text/plain": [
       "      Metric   K = 70%\n",
       "0   Accuracy  0.572989\n",
       "1  Precision  0.584168\n",
       "2     Recall  0.750643"
      ]
     },
     "execution_count": 10,
     "metadata": {},
     "output_type": "execute_result"
    }
   ],
   "source": [
    "#Predict outcomes of students in the testing data\n",
    "df_testing.loc[:, 'lr_y_scores'] = log_reg.predict(sm.add_constant(X_test))\n",
    "\n",
    "#Accuracy\n",
    "lr_accuracy_70 = accuracy_at_k(df_testing['label_high_earnings'], df_testing['lr_y_scores'], 0.7)\n",
    "#Precision\n",
    "lr_precision_70 = precision_at_k(df_testing['label_high_earnings'], df_testing['lr_y_scores'], 0.7)\n",
    "#Recall\n",
    "lr_recall_70 = recall_at_k(df_testing['label_high_earnings'], df_testing['lr_y_scores'], 0.7)\n",
    "#Write results to a DataFrame\n",
    "lr_metrics_70 = pd.DataFrame([['Accuracy', lr_accuracy_70],\n",
    "                          ['Precision', lr_precision_70],\n",
    "                          ['Recall', lr_recall_70]],\n",
    "                          columns = ['Metric', 'K = 70%'])\n",
    "\n",
    "#See results\n",
    "lr_metrics_70"
   ]
  },
  {
   "cell_type": "markdown",
   "metadata": {},
   "source": [
    " <font color='red'> **To predict students with high earnings more accurately, we want to look at precision.**</font>"
   ]
  },
  {
   "cell_type": "markdown",
   "metadata": {},
   "source": [
    "#### **Checkpoint 2: Use the Evaluation Metrics to Select A Model**\n",
    "\n",
    "Assume the funding for the policy intervention can only cover 10% of the students. Use the evaluation metrics results in the table below to select a model that allows to you aovid misallocation of resources as much as possible."
   ]
  },
  {
   "cell_type": "code",
   "execution_count": 11,
   "metadata": {},
   "outputs": [],
   "source": [
    "#Define the list of models we will train\n",
    "models = { 'Baseline_random': np.random.uniform(0,1,len(Y_test)),\n",
    "           'Baseline_allones': np.ones(len(Y_test)),\n",
    "           'RandomForest': RandomForestClassifier(n_estimators = 500, max_depth = 3,n_jobs = 2),\n",
    "           'LogisticRegression': sm.Logit(Y_train,sm.add_constant(X_train)),\n",
    "           'DecisionTree': DecisionTreeClassifier(max_depth = 7, min_samples_split = 10)\n",
    "         }\n",
    "\n",
    "#Define a list of model names for looping\n",
    "model_list = ['Baseline_random','Baseline_allones','RandomForest','LogisticRegression','DecisionTree']"
   ]
  },
  {
   "cell_type": "code",
   "execution_count": 12,
   "metadata": {
    "scrolled": true
   },
   "outputs": [
    {
     "name": "stdout",
     "output_type": "stream",
     "text": [
      "Optimization terminated successfully.\n",
      "         Current function value: 0.676958\n",
      "         Iterations 4\n"
     ]
    },
    {
     "data": {
      "text/html": [
       "<div>\n",
       "<style scoped>\n",
       "    .dataframe tbody tr th:only-of-type {\n",
       "        vertical-align: middle;\n",
       "    }\n",
       "\n",
       "    .dataframe tbody tr th {\n",
       "        vertical-align: top;\n",
       "    }\n",
       "\n",
       "    .dataframe thead th {\n",
       "        text-align: right;\n",
       "    }\n",
       "</style>\n",
       "<table border=\"1\" class=\"dataframe\">\n",
       "  <thead>\n",
       "    <tr style=\"text-align: right;\">\n",
       "      <th></th>\n",
       "      <th>Model</th>\n",
       "      <th>accuracy_at_80</th>\n",
       "      <th>precision_at_80</th>\n",
       "      <th>recall_at_80</th>\n",
       "      <th>accuracy_at_90</th>\n",
       "      <th>precision_at_90</th>\n",
       "      <th>recall_at_90</th>\n",
       "    </tr>\n",
       "  </thead>\n",
       "  <tbody>\n",
       "    <tr>\n",
       "      <th>0</th>\n",
       "      <td>Baseline_random</td>\n",
       "      <td>0.527269</td>\n",
       "      <td>0.545086</td>\n",
       "      <td>0.800352</td>\n",
       "      <td>0.536273</td>\n",
       "      <td>0.545078</td>\n",
       "      <td>0.900379</td>\n",
       "    </tr>\n",
       "    <tr>\n",
       "      <th>0</th>\n",
       "      <td>Baseline_allones</td>\n",
       "      <td>0.544871</td>\n",
       "      <td>0.544871</td>\n",
       "      <td>1.000000</td>\n",
       "      <td>0.544871</td>\n",
       "      <td>0.544871</td>\n",
       "      <td>1.000000</td>\n",
       "    </tr>\n",
       "    <tr>\n",
       "      <th>0</th>\n",
       "      <td>RandomForest</td>\n",
       "      <td>0.565756</td>\n",
       "      <td>0.568535</td>\n",
       "      <td>0.842137</td>\n",
       "      <td>0.555092</td>\n",
       "      <td>0.553191</td>\n",
       "      <td>0.954016</td>\n",
       "    </tr>\n",
       "    <tr>\n",
       "      <th>0</th>\n",
       "      <td>LogisticRegression</td>\n",
       "      <td>0.566642</td>\n",
       "      <td>0.569510</td>\n",
       "      <td>0.838413</td>\n",
       "      <td>0.559373</td>\n",
       "      <td>0.557529</td>\n",
       "      <td>0.927062</td>\n",
       "    </tr>\n",
       "    <tr>\n",
       "      <th>0</th>\n",
       "      <td>DecisionTree</td>\n",
       "      <td>0.565203</td>\n",
       "      <td>0.568780</td>\n",
       "      <td>0.835297</td>\n",
       "      <td>0.553469</td>\n",
       "      <td>0.552016</td>\n",
       "      <td>0.957673</td>\n",
       "    </tr>\n",
       "  </tbody>\n",
       "</table>\n",
       "</div>"
      ],
      "text/plain": [
       "                Model  accuracy_at_80  precision_at_80  recall_at_80  \\\n",
       "0     Baseline_random        0.527269         0.545086      0.800352   \n",
       "0    Baseline_allones        0.544871         0.544871      1.000000   \n",
       "0        RandomForest        0.565756         0.568535      0.842137   \n",
       "0  LogisticRegression        0.566642         0.569510      0.838413   \n",
       "0        DecisionTree        0.565203         0.568780      0.835297   \n",
       "\n",
       "   accuracy_at_90  precision_at_90  recall_at_90  \n",
       "0        0.536273         0.545078      0.900379  \n",
       "0        0.544871         0.544871      1.000000  \n",
       "0        0.555092         0.553191      0.954016  \n",
       "0        0.559373         0.557529      0.927062  \n",
       "0        0.553469         0.552016      0.957673  "
      ]
     },
     "execution_count": 12,
     "metadata": {},
     "output_type": "execute_result"
    }
   ],
   "source": [
    "#Define an empty DataFrame for storing results\n",
    "df_results = pd.DataFrame()\n",
    "\n",
    "#Loop through all the models\n",
    "for m in model_list:\n",
    "\n",
    "    #Fit models\n",
    "    if (m == 'Baseline_random' or m =='Baseline_allones'):\n",
    "        np.random.seed(20)\n",
    "        y_scores = models[m]\n",
    "    elif (m == 'RandomForest' or m == 'DecisionTree'):\n",
    "        clf = models[m].fit(X_train,Y_train.ravel())\n",
    "        y_scores = clf.predict_proba(X_test)[:,1]\n",
    "    elif m == 'LogisticRegression':\n",
    "        clf = models[m].fit()\n",
    "        y_scores = clf.predict(sm.add_constant(X_test))\n",
    "\n",
    "    #Calculate metrics at different threshold\n",
    "    #If you need to add additional metrics and/or threshold, you can add to this list\n",
    "    a_at_80 = accuracy_at_k(Y_test, y_scores, 0.8) \n",
    "    a_at_90 = accuracy_at_k(Y_test, y_scores, 0.9)\n",
    "    p_at_80 = precision_at_k(Y_test, y_scores, 0.8)\n",
    "    p_at_90 = precision_at_k(Y_test, y_scores, 0.9)\n",
    "    r_at_80 = recall_at_k(Y_test, y_scores, 0.8)\n",
    "    r_at_90 = recall_at_k(Y_test, y_scores, 0.9)\n",
    "\n",
    "    #Add the results to the df_results DataFrame\n",
    "    #If you added additional metrics and/or threshold above, you should add them to this list as well\n",
    "    df_results = df_results._append([{\n",
    "        'Model':m,\n",
    "        'accuracy_at_80':a_at_80,\n",
    "        'precision_at_80':p_at_80,\n",
    "        'recall_at_80':r_at_80,\n",
    "        'accuracy_at_90':a_at_90,\n",
    "        'precision_at_90':p_at_90,\n",
    "        'recall_at_90':r_at_90,\n",
    "    }])\n",
    "\n",
    "#Show results\n",
    "df_results"
   ]
  },
  {
   "cell_type": "markdown",
   "metadata": {},
   "source": [
    " <font color='red'> **We may want to select Decision Tree model as it has the highest recall among all the models at k=90**</font>"
   ]
  },
  {
   "cell_type": "code",
   "execution_count": null,
   "metadata": {},
   "outputs": [],
   "source": []
  }
 ],
 "metadata": {
  "kernelspec": {
   "display_name": "Python 3 (ipykernel)",
   "language": "python",
   "name": "python3"
  },
  "language_info": {
   "codemirror_mode": {
    "name": "ipython",
    "version": 3
   },
   "file_extension": ".py",
   "mimetype": "text/x-python",
   "name": "python",
   "nbconvert_exporter": "python",
   "pygments_lexer": "ipython3",
   "version": "3.8.10"
  }
 },
 "nbformat": 4,
 "nbformat_minor": 4
}
