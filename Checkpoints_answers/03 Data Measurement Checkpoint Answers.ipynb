{
 "cells": [
  {
   "cell_type": "markdown",
   "metadata": {
    "id": "qZWE8pNhMHdG"
   },
   "source": [
    "# Data Measurement Checkpoint Answers\n",
    "\n",
    "**Tian Lou** \\\n",
    "Ohio Education Research Center \\\n",
    "The Ohio State University\n",
    "\n",
    "**Xiangyu Ren** \\\n",
    "New York University\n",
    "\n",
    "**Anna-Carolina Haensch** \\\n",
    "University of Maryland \\\n",
    "LMU Munich\n",
    "\n",
    "[![DOI](https://zenodo.org/badge/DOI/10.5281/zenodo.10256974.svg)](https://doi.org/10.5281/zenodo.10256974)\n",
    "\n",
    "**This notebook is developed for the [Data Literacy and Evidence Building Executive Class](https://www.socialdatascience.umd.edu/data-literacy).**\n",
    "\n",
    "**The \"Syntucky\" data, which is synthetic in nature, is exclusively designed for training exercises. It is not intended to derive meaningful insights or make determinations about real-world populations.**"
   ]
  },
  {
   "cell_type": "code",
   "execution_count": null,
   "metadata": {
    "id": "Soh-SUiRMHdJ"
   },
   "outputs": [],
   "source": [
    "#Load libraries\n",
    "import pandas as pd\n",
    "import numpy as np"
   ]
  },
  {
   "cell_type": "markdown",
   "metadata": {
    "id": "PPwfy6clMHdO"
   },
   "source": [
    "#### **Checkpoint 1: Generate Completers, Non-Completers, and Degree Pursuers**\n",
    "\n",
    "1. Load the 2013 cohort data and save it in `df_2013`.\n",
    "2. Add the `group` column to the 2013 cohort data. The `group` column identifies *'completer, Associate'*, *'completer, Bachelor'*, *'completer, Master'*, *'non-completer'*, and *'degree pursuer'*.\n",
    "3. What percentages of the 2013 cohort are completers, non-completers, and degree pursuers?"
   ]
  },
  {
   "cell_type": "markdown",
   "metadata": {},
   "source": [
    "Before running the code below, please change <font color='red'> **YOUR DATA DIRECTORY**</font> to your own file path."
   ]
  },
  {
   "cell_type": "code",
   "execution_count": null,
   "metadata": {
    "id": "9H0rfNLfMHdO"
   },
   "outputs": [],
   "source": [
    "# Question 1\n",
    "#Define data directory\n",
    "data_directory = 'YOUR DATA DIRECTORY'\n",
    "\n",
    "#Read in 2013 cohort data\n",
    "df_2013 = pd.read_csv(data_directory+'syntucky_cohort_2013.csv')"
   ]
  },
  {
   "cell_type": "code",
   "execution_count": null,
   "metadata": {},
   "outputs": [],
   "source": [
    "# Question 2\n",
    "\n",
    "#Conditions list\n",
    "conditions_2013 = [df_2013['high_completion_label'] == 'Associate', #Completers whose highest degrees are associate\n",
    "              df_2013['high_completion_label'] == 'Bachelor', #Completers whose highest degrees are bachelor\n",
    "              df_2013['high_completion_label'] == 'Master', #Completers whose highest degrees are master\n",
    "              ((df_2013['year7_enrolled'] == 0) & \n",
    "               ( ~ df_2013['high_completion_label'].isin(['Associate', 'Bachelor', 'Master']))), #Non-completers\n",
    "             ((df_2013['year7_enrolled'] == 1) & \n",
    "               ( ~ df_2013['high_completion_label'].isin(['Associate', 'Bachelor', 'Master'])))] #Degree pursuers\n",
    "\n",
    "#Choices (or values) list\n",
    "choices_2013 = ['completer, Associate', \n",
    "           'completer, Bachelor', \n",
    "           'completer, Master', \n",
    "           'non-completer', \n",
    "           'degree pursuer']\n",
    "\n",
    "#Assign results to the indicator 'group' based on conditions; Default choice is the null value\n",
    "df_2013['group'] = np.select(conditions_2013, choices_2013, default = np.NaN)"
   ]
  },
  {
   "cell_type": "code",
   "execution_count": null,
   "metadata": {},
   "outputs": [],
   "source": [
    "# Question 3\n",
    "#Counts of students in each group; save the result to DataFrame 'df_cnt_group'\n",
    "df_cnt_group_2013 = df_2013.groupby(['group'], dropna = False)['id'].agg(['count']).reset_index()\n",
    "\n",
    "#Add a new column, 'percent'\n",
    "#Recall that df_2013.shape[0] is the number of rows in 'df_2013', i.e., number of students in 'df_2013'\n",
    "df_cnt_group_2013['percent'] = round(df_cnt_group_2013['count']/df_2013.shape[0], 2)\n",
    "\n",
    "#See the results\n",
    "df_cnt_group_2013"
   ]
  },
  {
   "cell_type": "markdown",
   "metadata": {},
   "source": [
    "#### **Checkpoint 2: Generate Basic Job Quality Measure**\n",
    "\n",
    "Please calculate year 7 average earnings and average number of employers for completers, non-completers, and degree pursuers in the 2013 cohort. Do you observe the same trends as the 2015 cohort?"
   ]
  },
  {
   "cell_type": "code",
   "execution_count": null,
   "metadata": {},
   "outputs": [],
   "source": [
    "#Average year 7 earnings and number of employers by group\n",
    "#We put the variable list vertically to improve the readability of the code\n",
    "df_job_quality_group_2013 = df_2013.groupby(['group'])[['year7_earnings', \n",
    "                                                   'year7_ct_employers']].agg(['mean']).reset_index()\n",
    "\n",
    "#See the result\n",
    "df_job_quality_group_2013"
   ]
  },
  {
   "cell_type": "markdown",
   "metadata": {},
   "source": [
    "Yes, we observe the same trend in the 2013 cohort as the 2015 cohort."
   ]
  },
  {
   "cell_type": "markdown",
   "metadata": {},
   "source": [
    "#### **Checkpoint 3: Generate Additional Job Quality Measures**\n",
    "\n",
    "1. Please calculate year 7 high earnings job rate, average employment duration, and average earnings per employed quarter for completers, non-completers, and degree pursuers in the 2013 cohort. Do you observe the same trends as the 2015 cohort?\n",
    "\n",
    "2. There are other measures available in the data, such as:\n",
    "   -  `year7_max_qrts_one_employer`: Number of quarters a person employed by the most consistent employer in year 7.\n",
    "   -  `year7_earnings_most_consistent_employer`: inflation-adjusted earnings from the most consistent employer in year 7.\n",
    "\n",
    "    See if you can use them to create other job quality measures.\n",
    "\n",
    "3. Check the missingness of your outcome variables."
   ]
  },
  {
   "cell_type": "code",
   "execution_count": null,
   "metadata": {},
   "outputs": [],
   "source": [
    "# Question 1\n",
    "#High earnings job indicator\n",
    "df_2013['year7_high_earnings'] = (df_2013['year7_earnings'] > 15080) * 1\n",
    "\n",
    "#Average earnings per employed quarter\n",
    "df_2013['year7_avg_qtr_earnings'] = df_2013['year7_earnings'] / df_2013['year7_ct_qtrs_employed']\n",
    "\n",
    "#Define the list of job quality measures\n",
    "measure_list_2013 = [ 'year7_high_earnings','year7_ct_qtrs_employed', 'year7_avg_qtr_earnings']\n",
    "\n",
    "#Job Quality by group\n",
    "df_job_quality_group_2013 = df_2013.groupby(['group'])[measure_list_2013].agg(['mean']).reset_index()\n",
    "\n",
    "#See the result\n",
    "df_job_quality_group_2013"
   ]
  },
  {
   "cell_type": "markdown",
   "metadata": {},
   "source": [
    "Yes, we can observe the same trend in the 2013 cohort as the 2015 cohort."
   ]
  },
  {
   "cell_type": "code",
   "execution_count": null,
   "metadata": {},
   "outputs": [],
   "source": [
    "# Question 2\n",
    "\n",
    "#Calculate average quarterly earnings from the most consistent employer\n",
    "df_2013['avg_qtrs_earnings_most_consistent_employer'] = df_2013['year7_earnings_most_consistent_employer']/df_2013['year7_max_qtrs_one_employer']\n",
    "\n",
    "#Update our job quality measure list\n",
    "measure_list_new = ['year7_max_qtrs_one_employer','year7_earnings_most_consistent_employer', 'avg_qtrs_earnings_most_consistent_employer']\n",
    "\n",
    "#Job Quality by group\n",
    "df_job_quality_group_new = df_2013.groupby(['group'])[measure_list_new].agg(['mean']).reset_index()\n",
    "\n",
    "#See the result\n",
    "df_job_quality_group_new"
   ]
  },
  {
   "cell_type": "code",
   "execution_count": null,
   "metadata": {},
   "outputs": [],
   "source": [
    "# Question 3\n",
    "\n",
    "#Generate missing indicator\n",
    "df_2013['y7_ct_qtrs_employed_missing'] = (df_2013['year7_ct_qtrs_employed'].isna() == True) * 1\n",
    "\n",
    "#Calculate missing rate and number of people with missing year 7 number of quarters employed by group\n",
    "df_missing_2013 = df_2013.groupby(['group'])['y7_ct_qtrs_employed_missing'].agg(['mean', 'sum']).reset_index()\n",
    "\n",
    "#Rename columns\n",
    "df_missing_2013 = df_missing_2013.rename(columns = {'mean' : 'year7_ct_qtrs_employed_missing_rate',\n",
    "                                                    'sum' : 'year7_ct_qtrs_employed_missing_cnt'})\n",
    "\n",
    "df_missing_2013"
   ]
  },
  {
   "cell_type": "markdown",
   "metadata": {},
   "source": [
    "#### **Checkpoint 4: Examine Job Quality By Major**\n",
    "\n",
    "1. Create two DataFrames. The first DataFrame only includes the 2013 cohort completers. The second DataFrame only includes the 2013 cohort non-completers and degree pursuers.\n",
    "\n",
    "2. Examine job quality by majors for completers, non-completers, and degree pursuers in the 2013 cohort."
   ]
  },
  {
   "cell_type": "code",
   "execution_count": null,
   "metadata": {
    "id": "7V_4GmF3MHdQ"
   },
   "outputs": [],
   "source": [
    "# Question 1\n",
    "#Save completers to DataFrame df_2013_comp\n",
    "df_2013_comp = df_2013[(df_2013['group'] == 'completer, Associate') | \n",
    "                       (df_2013['group'] == 'completer, Bachelor') |\n",
    "                       (df_2013['group'] == 'completer, Master')]\n",
    "\n",
    "#Save non-completers and degree pursuers to df_2015_non_comp\n",
    "df_2013_non_comp = df_2013[(df_2013['group'] == 'non-completer') | \n",
    "                           (df_2013['group'] == 'degree pursuer')]"
   ]
  },
  {
   "cell_type": "code",
   "execution_count": null,
   "metadata": {},
   "outputs": [],
   "source": [
    "# Question 2\n",
    "#Define the list of job quality measures\n",
    "#This step just puts all column names in one list to improve the readability of the groupby() code.\n",
    "measure_list_2013 = ['year7_earnings', 'year7_ct_employers', 'year7_high_earnings', \n",
    "                     'year7_ct_qtrs_employed', 'year7_avg_qtr_earnings', 'y7_ct_qtrs_employed_missing']\n",
    "\n",
    "#Job Quality by major for completers\n",
    "df_job_quality_comp_2013 = df_2013_comp.groupby(['high_completion', 'group'])[measure_list_2013].agg(['mean']).reset_index()\n",
    "\n",
    "#See the result\n",
    "df_job_quality_comp_2013\n",
    "\n",
    "#Job Quality by major for non-completers and degree pursuers\n",
    "df_job_quality_non_comp_2013 = df_2013_non_comp.groupby(['first_enroll', 'group'])[measure_list_2013].agg(['mean']).reset_index()\n",
    "\n",
    "#See the result\n",
    "df_job_quality_non_comp_2013"
   ]
  }
 ],
 "metadata": {
  "colab": {
   "provenance": []
  },
  "kernelspec": {
   "display_name": "Python 3 (ipykernel)",
   "language": "python",
   "name": "python3"
  },
  "language_info": {
   "codemirror_mode": {
    "name": "ipython",
    "version": 3
   },
   "file_extension": ".py",
   "mimetype": "text/x-python",
   "name": "python",
   "nbconvert_exporter": "python",
   "pygments_lexer": "ipython3",
   "version": "3.8.10"
  }
 },
 "nbformat": 4,
 "nbformat_minor": 4
}
