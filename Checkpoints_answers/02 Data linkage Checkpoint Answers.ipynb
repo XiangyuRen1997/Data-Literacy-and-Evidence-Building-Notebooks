{
 "cells": [
  {
   "cell_type": "markdown",
   "metadata": {
    "id": "1jYI-hwH7YnD"
   },
   "source": [
    "# Data Linkage Checkpoint Answers\n",
    "\n",
    "**Tian Lou** \\\n",
    "Ohio Education Research Center \\\n",
    "The Ohio State University\n",
    "\n",
    "**Xiangyu Ren** \\\n",
    "New York University\n",
    "\n",
    "**Anna-Carolina Haensch** \\\n",
    "University of Maryland \\\n",
    "LMU Munich\n",
    "\n",
    "[![DOI](https://zenodo.org/badge/DOI/10.5281/zenodo.10256875.svg)](https://doi.org/10.5281/zenodo.10256875)\n",
    "\n",
    "**This notebook is developed for the [Data Literacy and Evidence Building Executive Class](https://www.socialdatascience.umd.edu/data-literacy).**\n",
    "\n",
    "**The \"Syntucky\" data, which is synthetic in nature, is exclusively designed for training exercises. It is not intended to derive meaningful insights or make determinations about real-world populations.**"
   ]
  },
  {
   "cell_type": "code",
   "execution_count": null,
   "metadata": {
    "id": "6RC8zKC87YnJ",
    "scrolled": true
   },
   "outputs": [],
   "source": [
    "# Load libraries\n",
    "\n",
    "# Interface to connect mySQL database server in Python\n",
    "import MySQLdb \n",
    "\n",
    "# Library that provides lightweight disk-based database\n",
    "import sqlite3 \n",
    "\n",
    "# File system path\n",
    "from pathlib import Path\n",
    "\n",
    "# Data manipulation and analysis tool\n",
    "import pandas as pd "
   ]
  },
  {
   "cell_type": "markdown",
   "metadata": {},
   "source": [
    "Before running the code below, please change <font color='red'> **YOUR DATA DIRECTORY**</font> to your own file path."
   ]
  },
  {
   "cell_type": "code",
   "execution_count": null,
   "metadata": {
    "id": "E1yOgKoK7YnM"
   },
   "outputs": [],
   "source": [
    "#Define data directory\n",
    "data_directory = 'YOUR DATA DIRECTORY'\n",
    "\n",
    "#master data\n",
    "master_df = pd.read_csv(data_directory + 'master_crosssection.csv')\n",
    "\n",
    "#employment data\n",
    "employment_df = pd.read_csv(data_directory + 'employment_crosssection.csv')\n",
    "\n",
    "#education data\n",
    "education_df = pd.read_csv(data_directory + 'education_crosssection.csv')"
   ]
  },
  {
   "cell_type": "markdown",
   "metadata": {
    "id": "ESMxStLu7YnO"
   },
   "source": [
    "Before running the code below, please change <font color='red'> **YOUR USERNAME**</font> to your username or use your own file path."
   ]
  },
  {
   "cell_type": "code",
   "execution_count": null,
   "metadata": {
    "id": "4wnjNLXx7YnO",
    "scrolled": true
   },
   "outputs": [],
   "source": [
    "# Change your working path to your personal folder\n",
    "Path('C:/Users/YOUR USERNAME/syn_data.db').touch() \n",
    "\n",
    "# Establish database connection\n",
    "conn = sqlite3.connect('C:/Users/YOUR USERNAME/syn_data.db') \n",
    "c = conn.cursor()"
   ]
  },
  {
   "cell_type": "code",
   "execution_count": null,
   "metadata": {
    "id": "e93xcKJr7YnQ"
   },
   "outputs": [],
   "source": [
    "#Remove the table if already exist\n",
    "c.execute('''DROP TABLE IF EXISTS master ''')\n",
    "\n",
    "#Create an empty table, \"master\", in your database\n",
    "#In the code below, we define the column names and types before we can upload the master data to the database\n",
    "c.execute('''CREATE TABLE master (id int, \n",
    "                                  gender text, \n",
    "                                  birth_year int, \n",
    "                                  birth_month text,\n",
    "                                  urm_status text,\n",
    "                                  race_group text,\n",
    "                                  instate_origin  int)''')"
   ]
  },
  {
   "cell_type": "code",
   "execution_count": null,
   "metadata": {
    "id": "i7xuleWJ7YnQ"
   },
   "outputs": [],
   "source": [
    "#Load data in master_df to the database\n",
    "master_df.to_sql('master', conn, if_exists = 'replace', index = False)"
   ]
  },
  {
   "cell_type": "code",
   "execution_count": null,
   "metadata": {
    "id": "_OFWVBJr7YnR"
   },
   "outputs": [],
   "source": [
    "#Remove the table if already exist\n",
    "c.execute('''DROP TABLE IF EXISTS employment ''')\n",
    "\n",
    "#Create the employment table in the database\n",
    "c.execute('''CREATE TABLE employment (id int,\n",
    "                                      year7_max_qtrs_one_employer int, \n",
    "                                      year7_education_industry_employed int, \n",
    "                                      year7_ct_qtrs_employed int,\n",
    "                                      year7_ct_employers int, \n",
    "                                      year7_earnings int, \n",
    "                                      year7_earnings_most_consistent_employer int)''')"
   ]
  },
  {
   "cell_type": "code",
   "execution_count": null,
   "metadata": {
    "id": "_OFWVBJr7YnR"
   },
   "outputs": [],
   "source": [
    "#Load employment data to the database\n",
    "employment_df.to_sql('employment', conn, if_exists = 'replace', index = False)"
   ]
  },
  {
   "cell_type": "code",
   "execution_count": null,
   "metadata": {
    "id": "ipnDpWtu7YnR"
   },
   "outputs": [],
   "source": [
    "#Remove the table if already exist\n",
    "c.execute('''DROP TABLE IF EXISTS education ''')\n",
    "\n",
    "#Create the education table in the database\n",
    "c.execute('''CREATE TABLE education (id int,\n",
    "                                     first_enroll text,\n",
    "                                     first_enroll_term text,\n",
    "                                     first_enroll_calendaryear int,\n",
    "                                     high_completion_acadyr int,\n",
    "                                     high_completion_label text,\n",
    "                                     high_completion text,\n",
    "                                     year7_enrolled int)''')"
   ]
  },
  {
   "cell_type": "code",
   "execution_count": null,
   "metadata": {},
   "outputs": [],
   "source": [
    "#Load the education data to the database\n",
    "education_df.to_sql('education',conn, if_exists = 'replace',index = False)"
   ]
  },
  {
   "cell_type": "markdown",
   "metadata": {},
   "source": [
    "#### **Checkpoint 1: Join the Master Data and the Education Data**\n",
    "\n",
    "Please join the master table with the education table by using SQL command `LEFT JOIN` and `INNER JOIN`. Check how the number of rows changes in the final DataFrames."
   ]
  },
  {
   "cell_type": "code",
   "execution_count": null,
   "metadata": {},
   "outputs": [],
   "source": [
    "#Left join master data and education data by using SQL query\n",
    "master_education_left_df = pd.read_sql('''SELECT * FROM master m \n",
    "                                          LEFT JOIN education e \n",
    "                                          ON m.id = e.id''', conn)\n",
    "\n",
    "#Check number of rows\n",
    "print('By left joining the master data with the education data, the final DataFrame has', \n",
    "      master_education_left_df.shape[0], 'rows.')"
   ]
  },
  {
   "cell_type": "code",
   "execution_count": null,
   "metadata": {},
   "outputs": [],
   "source": [
    "#Inner join master data and education data by using SQL query\n",
    "master_education_inner_df = pd.read_sql('''SELECT * FROM master m \n",
    "                                           INNER JOIN education e \n",
    "                                           ON m.id = e.id''', conn)\n",
    "\n",
    "#Check number of rows\n",
    "print('By inner joining the master data with the education data, the final DataFrame has', \n",
    "      master_education_inner_df.shape[0], 'rows.')"
   ]
  },
  {
   "cell_type": "markdown",
   "metadata": {
    "id": "QOKj7pyK7Ynl"
   },
   "source": [
    "#### **Checkpoint 2: Right Join the Master Data and the Employment Data**\n",
    "\n",
    "Please right join the master data, `master_df`, with the employment data, `employment_df`, by using pandas function `merge()`. Check how the number of rows changes in the final DataFrames."
   ]
  },
  {
   "cell_type": "code",
   "execution_count": null,
   "metadata": {
    "id": "65-yzWej7Ynm"
   },
   "outputs": [],
   "source": [
    "#Right Join in Python\n",
    "master_emp_pd_right_df = master_df.merge(employment_df, how = 'right', on = 'id')\n",
    "\n",
    "#Check number of rows\n",
    "print('By right joining the master data with the employment data, the final DataFrame has',\n",
    "      master_emp_pd_right_df.shape[0], 'rows.')"
   ]
  }
 ],
 "metadata": {
  "colab": {
   "provenance": []
  },
  "kernelspec": {
   "display_name": "Python 3 (ipykernel)",
   "language": "python",
   "name": "python3"
  },
  "language_info": {
   "codemirror_mode": {
    "name": "ipython",
    "version": 3
   },
   "file_extension": ".py",
   "mimetype": "text/x-python",
   "name": "python",
   "nbconvert_exporter": "python",
   "pygments_lexer": "ipython3",
   "version": "3.8.10"
  }
 },
 "nbformat": 4,
 "nbformat_minor": 4
}
