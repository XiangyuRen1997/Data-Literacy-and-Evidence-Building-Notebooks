{
 "cells": [
  {
   "cell_type": "markdown",
   "id": "vZn7yVsX7SGu",
   "metadata": {
    "id": "vZn7yVsX7SGu"
   },
   "source": [
    "# Data Visualization Checkpoint Answers\n",
    "\n",
    "**Tian Lou** \\\n",
    "Ohio Education Research Center \\\n",
    "The Ohio State University\n",
    "\n",
    "**Xiangyu Ren** \\\n",
    "New York University\n",
    "\n",
    "**Anna-Carolina Haensch** \\\n",
    "University of Maryland \\\n",
    "LMU Munich\n",
    "\n",
    "[![DOI](https://zenodo.org/badge/DOI/10.5281/zenodo.10257134.svg)](https://doi.org/10.5281/zenodo.10257134)\n",
    "\n",
    "**This notebook is developed for the [Data Literacy and Evidence Building Executive Class](https://www.socialdatascience.umd.edu/data-literacy).**\n",
    "\n",
    "**The \"Syntucky\" data, which is synthetic in nature, is exclusively designed for training exercises. It is not intended to derive meaningful insights or make determinations about real-world populations.**"
   ]
  },
  {
   "cell_type": "markdown",
   "id": "9086c399-4f96-4cc4-8daa-be347eeaa5e8",
   "metadata": {},
   "source": [
    "Before running the code below, please change <font color='red'> **YOUR DATA DIRECTORY**</font> to your own file path."
   ]
  },
  {
   "cell_type": "code",
   "execution_count": null,
   "id": "a9c3455a-864d-4960-91a6-66f83974aeb2",
   "metadata": {
    "id": "f50390ac"
   },
   "outputs": [],
   "source": [
    "#Data analysis libraries\n",
    "import pandas as pd\n",
    "import numpy as np\n",
    "\n",
    "#Data visualization libraries\n",
    "import matplotlib.pyplot as plt\n",
    "import seaborn as sns\n",
    "\n",
    "#Define data folder directory\n",
    "data_directory = 'YOUR DATA DIRECTORY'"
   ]
  },
  {
   "cell_type": "markdown",
   "id": "befb8962-b09f-499d-bdc2-259db465b671",
   "metadata": {},
   "source": [
    "#### **Checkpoint 1: Create a Boxplot for the 2013 Cohort Bachelor's Degree Holders**\n",
    "\n",
    "Please load the 2013 cohort data and save students whose highest degree is bachelor's degree in `df_2013_ba`. Then create a boxplot to show year 7 earnings distributions for bachelor's degree holders by major."
   ]
  },
  {
   "cell_type": "markdown",
   "id": "33413b6b-fe70-4cd5-b665-35f4c6a7f859",
   "metadata": {},
   "source": [
    "Before running the code below, please change <font color='red'> **YOUR USERNAME**</font> in the second to last line of code to your username or your own file path."
   ]
  },
  {
   "cell_type": "code",
   "execution_count": null,
   "id": "3779e05e-fc28-4abb-a4d9-67956ff6c590",
   "metadata": {},
   "outputs": [],
   "source": [
    "#Read in 2013 cohort data\n",
    "df_2013 = pd.read_csv(data_directory + 'syntucky_cohort_2013.csv')\n",
    "\n",
    "#Students in the 2013 cohort whose highest degree level is bachelor's degree\n",
    "df_2013_ba = df_2013[(df_2013['high_completion_label'] == 'Bachelor')]"
   ]
  },
  {
   "cell_type": "code",
   "execution_count": null,
   "id": "097667f4-0174-4311-9949-14817056d9d5",
   "metadata": {},
   "outputs": [],
   "source": [
    "#Create a boxplot\n",
    "\n",
    "# Set plot size\n",
    "# The first number is the width and the second number is the height.\n",
    "fig, ax = plt.subplots(figsize = (8, 5))\n",
    "\n",
    "# Create a boxplot for 'year7_earnings' across all 'high_completion' groups\n",
    "# We also use `order = ` to sort majors alphabetically\n",
    "sns.boxplot(x = 'high_completion', y = 'year7_earnings', data = df_2013_ba,\n",
    "           order = ['business', 'computerscience', 'education', 'nursing', 'other'])\n",
    "\n",
    "# Change Y-axis and X-axis labels\n",
    "# You can change the label size in `fontsize = `\n",
    "ax.set_ylabel('Year 7 Earnings', fontsize = 12)\n",
    "ax.set_xlabel('Highest Degree Major', fontsize = 12)\n",
    "\n",
    "# Y-axis tick labels: Change the format of earnings displayed on Y-axis\n",
    "ax.yaxis.set_major_formatter(format('${x:,.0f}'))\n",
    "\n",
    "# X-axis tick labels: \n",
    "# We can define x tick labels, such as using capital letters for the first letter of each word\n",
    "# Make sure the order of your labels are consistent with the order you defined in sns.boxplot()\n",
    "# Rotate x tick labels for better readability if there are many categories\n",
    "ax.set_xticklabels(['Business', 'Computer Science', 'Education', 'Nursing', 'Other Majors'],\n",
    "                   rotation = 20)\n",
    "\n",
    "# Set the title\n",
    "plt.title('Of the 2013 Cohort Bachelor Degree Holders, \\n Nursing Students Had the Highest Median Earnings in Year 7')\n",
    "\n",
    "# Data source\n",
    "# The first two numbers indicate the coordinate (or (x,y) position) of the text\n",
    "# You may need to adjust the numbers a few times to place it in an ideal place\n",
    "plt.figtext(0.65, -0.12, 'Data Source: Syntucky Data')\n",
    "\n",
    "#Save the plot\n",
    "plt.savefig(r\"C:\\Users\\YOUR NAME\\Documents\\ba_2013_y7_earnings_by_major.jpg\", bbox_inches = 'tight')\n",
    "\n",
    "# Show the plot\n",
    "plt.show()"
   ]
  },
  {
   "cell_type": "markdown",
   "id": "f11a3f53-fd9b-463e-a7e4-b0046d571940",
   "metadata": {},
   "source": [
    "#### **Checkpoint 2: Use a Countplot to Check Counts of Missing Earnings** \n",
    "\n",
    "Please create a countplot to check how many students have missing and non-missing year 7 earnings in the 2013 cohort by the highest degree major. "
   ]
  },
  {
   "cell_type": "markdown",
   "id": "f54b6684-c8c5-4c21-b3f2-38d4b55bbf2c",
   "metadata": {},
   "source": [
    "Before running the code below, please change <font color='red'> **YOUR USERNAME**</font> in the second to last line of code to your username or your own file path."
   ]
  },
  {
   "cell_type": "code",
   "execution_count": null,
   "id": "31e946e4-2c10-4895-bae5-aaa480cf918d",
   "metadata": {},
   "outputs": [],
   "source": [
    "# Create a new column indicating whether data in 'year7_earnings' column is missing\n",
    "df_2013_ba.loc[:, 'year7_earn_missing'] = (df_2013_ba['year7_earnings'].isna() == True) * 1"
   ]
  },
  {
   "cell_type": "code",
   "execution_count": null,
   "id": "79b0e77d-87cc-426f-a7ab-f61675b97295",
   "metadata": {},
   "outputs": [],
   "source": [
    "# Create a countplot\n",
    "\n",
    "# Set plot size\n",
    "# The first number is the width and the second number is the height.\n",
    "fig, ax = plt.subplots(figsize = (8, 5))\n",
    "\n",
    "# Create a countplot to show counts of missing and non-missing 'year7_earnings' by major groups\n",
    "# We also use `order = ` to sort majors alphabetically\n",
    "sns.countplot(x = 'high_completion', hue = 'year7_earn_missing', data = df_2013_ba,\n",
    "              order = ['business', 'computerscience', 'education', 'nursing', 'other'])\n",
    "\n",
    "# Change Y-axis and X-axis labels\n",
    "# You can change the label size in `fontsize = `\n",
    "ax.set_ylabel('Student Counts', fontsize = 12)\n",
    "ax.set_xlabel('Highest Degree Major', fontsize = 12)\n",
    "\n",
    "# Y-axis tick labels: Change the format of counts displayed on Y-axis\n",
    "ax.yaxis.set_major_formatter(format('{x:,.0f}'))\n",
    "\n",
    "# X-axis tick labels: \n",
    "# Make sure the order of your labels are consistent with the order you defined in sns.countplot()\n",
    "# Rotate x tick labels for better readability if there are many categories\n",
    "ax.set_xticklabels(['Business', 'Computer Science', 'Education', 'Nursing', 'Other Majors'],\n",
    "                   rotation = 20)\n",
    "\n",
    "# Set the title\n",
    "plt.title('More Than 50% of Students in Business and \\n Computer Science Majors Have Missing Year 7 Earnings')\n",
    "\n",
    "# Data source\n",
    "# The first two numbers indicate the coordinate (or (x,y) position) of the text\n",
    "# You may need to adjust the numbers a few times to place it in an ideal place\n",
    "plt.figtext(0.65, -0.12, 'Data Source: Syntucky Data')\n",
    "\n",
    "# Define legend\n",
    "plt.legend(['Non-missing', 'Missing'], fontsize = 12)\n",
    "\n",
    "#Save the plot\n",
    "plt.savefig(r\"C:\\Users\\YOUR NAME\\Documents\\ba_2013_y7_earnings_missingness_by_major.jpg\", bbox_inches = 'tight')\n",
    "\n",
    "# Show the plot\n",
    "plt.show()"
   ]
  },
  {
   "cell_type": "markdown",
   "id": "3bb5eb89-4dec-4329-b6a7-b4f56e8785cf",
   "metadata": {},
   "source": [
    "#### **Checkpoint 3: Depict Median Earnings Over Time** \n",
    "\n",
    "Please create a line plot to show year 5 to year 9 median earnings for the 2013 cohort by the highest degree major. "
   ]
  },
  {
   "cell_type": "markdown",
   "id": "eb942fcd-654a-4416-8a03-a97be9f4576f",
   "metadata": {},
   "source": [
    "Before running the code below, please change <font color='red'> **YOUR USERNAME**</font> in the second to last line of code to your username or your own file path."
   ]
  },
  {
   "cell_type": "code",
   "execution_count": null,
   "id": "660218ca-e853-42a6-81e1-643f73162ebe",
   "metadata": {},
   "outputs": [],
   "source": [
    "# Choose the variables we need in order to create the line plot\n",
    "df_2013_ba_earn_wide = df_2013_ba[['id', 'high_completion', 'year5_earnings', 'year6_earnings', 'year7_earnings','year8_earnings','year9_earnings']]\n",
    "\n",
    "#Change column names for easier labeling\n",
    "df_2013_ba_earn_wide = df_2013_ba_earn_wide.rename(columns = {'year5_earnings' : 'Year 5',\n",
    "                                                              'year6_earnings' : 'Year 6',\n",
    "                                                              'year7_earnings' : 'Year 7',\n",
    "                                                              'year8_earnings' : 'Year 8',\n",
    "                                                              'year9_earnings' : 'Year 9'})\n",
    "\n",
    "# Transform the dataframe from the wide format to the long format using the melt function\n",
    "df_2013_ba_earn_long = pd.melt(df_2013_ba_earn_wide, \n",
    "                               id_vars = ['id', 'high_completion'],\n",
    "                               value_vars = ['Year 5','Year 6','Year 7', 'Year 8','Year 9'],\n",
    "                               var_name = 'year',\n",
    "                               value_name = 'earnings')\n",
    "\n",
    "#See the first five rows of the long format\n",
    "df_2013_ba_earn_long.head()"
   ]
  },
  {
   "cell_type": "code",
   "execution_count": null,
   "id": "25509c44-3c77-4955-89c3-bf710b72f619",
   "metadata": {
    "scrolled": true
   },
   "outputs": [],
   "source": [
    "# Create a line plot\n",
    "\n",
    "# Set plot size\n",
    "# The first number is the width and the second number is the height.\n",
    "fig, ax = plt.subplots(figsize = (8, 5))\n",
    "\n",
    "# Create a line plot to show earnings trends for students in different majors\n",
    "sns.lineplot(x = 'year', y = 'earnings', hue = 'high_completion', data = df_2013_ba_earn_long,\n",
    "             #Define orders of categories shown on the legend\n",
    "             hue_order = ['business', 'computerscience', 'education', 'nursing', 'other'], \n",
    "             # We use `estimator=` to define what statistics to show on the graph, \n",
    "             # you can replace np.nanmedian with other statistics such as np.mean\n",
    "             estimator = np.nanmedian, \n",
    "             # We hide the `errorbar` here, but it can be confidence interval, standard deviation, etc. \n",
    "             errorbar = None)\n",
    "\n",
    "# Change Y-axis and X-axis labels\n",
    "# You can change the label size in `fontsize = `\n",
    "ax.set_ylabel('Median Earnings', fontsize = 12)\n",
    "ax.set_xlabel('Number of Years Since College Entrance', fontsize = 12)\n",
    "\n",
    "# Y-axis tick labels: Change the format of counts displayed on Y-axis\n",
    "ax.yaxis.set_major_formatter(format('${x:,.0f}'))\n",
    "\n",
    "# Rotate x tick labels for better readability\n",
    "plt.xticks(rotation = 20)\n",
    "\n",
    "# Set the title\n",
    "# '\\n' allows you to start the sentence in a new line\n",
    "plt.title('Of the 2013 Cohort Bachelor Degree Holders, \\n Nursing Students Had the Highest Median Earnings from Year 5 to Year 9 \\n')\n",
    "\n",
    "# Data source\n",
    "# The first two numbers indicate the coordinate (or (x,y) position) of the text\n",
    "# You may need to adjust the numbers a few times to place it in an ideal place\n",
    "plt.figtext(0.65, -0.08, 'Data Source: Syntucky Data')\n",
    "\n",
    "# Define legend; The order of the labels should be consistent with the categories defined in `hue_order`\n",
    "plt.legend(['Business', 'Computer Science', 'Education', 'Nursing', 'Other Majors'], fontsize = 10)\n",
    "\n",
    "#Save the plot\n",
    "plt.savefig(r\"C:\\Users\\YOUR NAME\\Documents\\ba_2015_earnings_trends_by_major.jpg\", bbox_inches = 'tight')\n",
    "\n",
    "# Show the plot\n",
    "plt.show()"
   ]
  },
  {
   "cell_type": "code",
   "execution_count": null,
   "id": "5d66b655-28bb-4ddf-995f-4e7327b91d80",
   "metadata": {},
   "outputs": [],
   "source": []
  },
  {
   "cell_type": "markdown",
   "id": "a5579463-fbdf-4f3e-813e-2edc6fab6801",
   "metadata": {},
   "source": [
    "#### **Checkpoint 4: Show Year 7 Earnings by Major and Degree Completion Status** \n",
    "\n",
    "Please use a bar chart to show year 7 median earnings for the 2013 cohort by major and degree completion status (completers, non-completers, and degree pursuers)."
   ]
  },
  {
   "cell_type": "markdown",
   "id": "0826f554-4d31-4bbe-9191-d2e61bb8e28f",
   "metadata": {},
   "source": [
    "Before running the code below, please change <font color='red'> **YOUR USERNAME**</font> in the second to last line of code to your username or your own file path."
   ]
  },
  {
   "cell_type": "code",
   "execution_count": null,
   "id": "34355e3d-58eb-48b8-94df-02fc8fef0082",
   "metadata": {},
   "outputs": [],
   "source": [
    "#Generate a group indicator\n",
    "\n",
    "#Remove the records where high_completion_label is Doctoral\n",
    "df_2013 = df_2013[df_2013['high_completion_label'] != 'Doctoral']\n",
    "\n",
    "#Conditions list\n",
    "conditions = [df_2013['high_completion_label'] == 'Associate', #Completers whose highest degrees are associate\n",
    "              df_2013['high_completion_label'] == 'Bachelor', #Completers whose highest degrees are bachelor\n",
    "              df_2013['high_completion_label'] == 'Master', #Completers whose highest degrees are master\n",
    "              ((df_2013['year7_enrolled'] == 0) & \n",
    "               ( ~ df_2013['high_completion_label'].isin(['Associate', 'Bachelor', 'Master']))), #Non-completers\n",
    "             ((df_2013['year7_enrolled'] == 1) & \n",
    "               ( ~ df_2013['high_completion_label'].isin(['Associate', 'Bachelor', 'Master'])))] #Degree pursuers\n",
    "\n",
    "#Choices (or values) list\n",
    "choices = ['Completer, Associate', \n",
    "           'Completer, Bachelor', \n",
    "           'Completer, Master', \n",
    "           'Non-completer', \n",
    "           'Degree pursuer']\n",
    "\n",
    "#Assign results to the indicator 'group' based on conditions; Default choice is the null value\n",
    "df_2013['group'] = np.select(conditions, choices, default = np.NaN)"
   ]
  },
  {
   "cell_type": "code",
   "execution_count": null,
   "id": "cc061d2e-219e-443a-b59f-34c4c342a348",
   "metadata": {},
   "outputs": [],
   "source": [
    "#Major indicator\n",
    "\n",
    "#For completers, we use the highest degree majors.\n",
    "#For non-completers and degree pursuers, we use the first enrollment majors.\n",
    "\n",
    "#Conditions list\n",
    "conditions = [((df_2013['group'] == 'Completer, Associate') | # condition 1: completers\n",
    "               (df_2013['group'] == 'Completer, Bachelor') |\n",
    "               (df_2013['group'] == 'Completer, Master')), \n",
    "              ((df_2013['group'] == 'Non-completer') | # condition 2: non-completers and degree pursuers\n",
    "               (df_2013['group'] == 'Degree pursuer'))] \n",
    "    \n",
    "\n",
    "#Choices (or values) list\n",
    "choices = [df_2013['high_completion'],\n",
    "           df_2013['first_enroll']]\n",
    "\n",
    "#Assign results to the indicator 'major' based on conditions; Default choice is the null value\n",
    "df_2013['major'] = np.select(conditions, choices, default = np.NaN)"
   ]
  },
  {
   "cell_type": "code",
   "execution_count": null,
   "id": "84363601-618d-401e-b8e5-50feb8f42189",
   "metadata": {
    "scrolled": true
   },
   "outputs": [],
   "source": [
    "# Create a bar chart\n",
    "\n",
    "# Set plot size\n",
    "# The first number is the width and the second number is the height.\n",
    "fig, ax = plt.subplots(figsize = (8, 5))\n",
    "\n",
    "#Create a bar chart to show year 7 earnings by majors and degree completion status\n",
    "sns.barplot(x = 'major', y = 'year7_earnings', hue = 'group', data=df_2013,\n",
    "            #Define the order of student groups\n",
    "            hue_order = ['Completer, Associate', 'Completer, Bachelor', 'Completer, Master', \n",
    "                         'Non-completer', 'Degree pursuer'],\n",
    "            #Define the order of majors displayed on x-axis\n",
    "            order = ['business', 'computerscience', 'education', 'nursing', 'other'],\n",
    "            #Define statistics to show on each bar\n",
    "            estimator = np.nanmedian, errorbar = None)\n",
    "\n",
    "# Change Y-axis and X-axis labels\n",
    "# You can change the label size in `fontsize = `\n",
    "ax.set_ylabel('Median Earnings', fontsize = 12)\n",
    "ax.set_xlabel('Highest Degree Major', fontsize = 12)\n",
    "\n",
    "# Y-axis tick labels: Change the format of counts displayed on Y-axis\n",
    "ax.yaxis.set_major_formatter(format('${x:,.0f}'))\n",
    "\n",
    "# X-axis tick labels: \n",
    "# Make sure the order of your labels are consistent with the order you defined in sns.barplot()\n",
    "# Rotate x tick labels for better readability if there are many categories\n",
    "ax.set_xticklabels(['Business', 'Computer Science', 'Education', 'Nursing', 'Other Majors'],\n",
    "                   rotation = 20)\n",
    "\n",
    "# Set the title\n",
    "# '\\n' allows you to start the sentence in a new line\n",
    "plt.title('Nursing and Computer Science Students Had the Highest Year 7 \\n Median Earnings Among Completers')\n",
    "\n",
    "# Data source\n",
    "# The first two numbers indicate the coordinate (or (x,y) position) of the text\n",
    "# You may need to adjust the numbers a few times to place it in an ideal place\n",
    "plt.figtext(0.65, -0.12, 'Data Source: Syntucky Data')\n",
    "\n",
    "# Set legend font size\n",
    "plt.legend(fontsize = 8)\n",
    "\n",
    "#Save the plot\n",
    "plt.savefig(r\"C:\\Users\\YOUR NAME\\Documents\\2015_year7_earnings_by_major_group.jpg\", bbox_inches = 'tight')\n",
    "\n",
    "# Show the plot\n",
    "plt.show()"
   ]
  },
  {
   "cell_type": "code",
   "execution_count": null,
   "id": "6c8ae4f7-af5b-473f-97a0-309277ce7eb2",
   "metadata": {},
   "outputs": [],
   "source": []
  }
 ],
 "metadata": {
  "colab": {
   "provenance": []
  },
  "kernelspec": {
   "display_name": "Python 3 (ipykernel)",
   "language": "python",
   "name": "python3"
  },
  "language_info": {
   "codemirror_mode": {
    "name": "ipython",
    "version": 3
   },
   "file_extension": ".py",
   "mimetype": "text/x-python",
   "name": "python",
   "nbconvert_exporter": "python",
   "pygments_lexer": "ipython3",
   "version": "3.8.10"
  }
 },
 "nbformat": 4,
 "nbformat_minor": 5
}
